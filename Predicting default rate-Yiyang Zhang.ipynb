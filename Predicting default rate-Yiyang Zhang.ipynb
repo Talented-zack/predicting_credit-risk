{
 "cells": [
  {
   "cell_type": "markdown",
   "metadata": {},
   "source": [
    "<h1><center>GEICO Data Challenge-Yiyang Zhang</center></h1>"
   ]
  },
  {
   "cell_type": "markdown",
   "metadata": {},
   "source": [
    "## Excecutive Summary"
   ]
  },
  {
   "cell_type": "markdown",
   "metadata": {},
   "source": [
    ">My analysis has five main parts:\n",
    "> <li><b>Business Understanding</b></li>\n",
    "> <li><b>Data Understanding and Quality Check</b></li>\n",
    "> <li><b>Data Munging</b></li>\n",
    "> <li><b>Machine Learning Modelling</b> </li>\n",
    "> <li><b>What's Next- the future improvement</b></li>\n",
    "</ul>\n",
    "\n",
    ">In the <b>Business Understanding</b> part, we analyze our primary goal and identify the question. \n",
    "\n",
    ">In the <b>Data Understanding and Quality Check</b> part, we propose the four dimensions of data quality check and use those dimensions as our baseline of the data quality check. Then we inspect the data as a whole to skim through our dataset. Next, we focused on checking the data quality in terms of Uniqueness, Completeness, Validity, and Accuracy. Lastly, we come up with data quality insights.\n",
    "\n",
    ">In the <b>Data Munging</b> part, we fix the data quality issues and engineered features according to domain knowledge and business understanding.\n",
    "\n",
    ">In the <b>Machine Learning Modelling</b> part, we use several feature engineering techniques. The first technique is to find features with a high percentage of missing values(80% and up). The second technique uses correlation analysis to find the colinear features- with a threshold above 0.8. The third technique is to find the Features with zero standard deviation (contains the same value, only 'CHANNEL1_6M'). The fourth technique is to find Features with high ranking in Step Forward Selection. Then we build the XGBoost algorithm for baseline and tune the hyperparameters using Grid Search. Considering it's an imbalanced dataset, after we get the hyperparameters of XGBoost, we use Synthetic Minority Oversampling Technique(SMOTE) in our XGBoost model to oversample the examples in the minority class to get better performance. The SMOTE-XGBoost model is our final algorithm and gets an AUC-ROC score of 85% in 10-fold cross-validation. Then we calculate some statistics and visualize the data. \n",
    "\n",
    ">My analysis successfully prepares the data for modeling and creates an excellent SMOTE-XGBoost model with a good performance in terms of the AUC score. We can use our model to predict the likelihood that each policyholder will make a service payment call and address the business problem.\n",
    "\n",
    "\n",
    ">In the <b>What's Next- the future improvement</b> part, we reflect on what's the potential improvement for our analysis."
   ]
  },
  {
   "cell_type": "markdown",
   "metadata": {},
   "source": [
    "## Business Understanding"
   ]
  },
  {
   "cell_type": "markdown",
   "metadata": {},
   "source": [
    ">In this project, we want to predict the likelihood that each policyholder will make a service payment call.We identify it as a classification question. To be more specific, this should be a binary classification question with an imbalanced target variable. \n",
    "\n",
    ">We need to find an algorithm that fits the imbalanced data well and has good performance in terms of the AUC score. We should compare different models to pick the one with the highest AUC score. In this way, the likelihood predicted by our model has the business insights we need."
   ]
  },
  {
   "cell_type": "markdown",
   "metadata": {},
   "source": [
    "## Data Understanding and Quality Check"
   ]
  },
  {
   "cell_type": "markdown",
   "metadata": {},
   "source": [
    "###  The Four Dimensions of Data Quality Check"
   ]
  },
  {
   "cell_type": "markdown",
   "metadata": {},
   "source": [
    ">Checklist of data quality:\n",
    "> <li><b>Uniqueness</b>: Nothing will be recorded more than once base on how data is identified </li>\n",
    "> <li><b>Completeness</b>: A measure of null values. </li>\n",
    "> <li><b>Validity</b>: Data is valid if it conforms to the syntax of its definition such as format, type, and range </li>\n",
    "> <li><b>Accuracy</b>: The degree to which data correctly describes the real world. </li>\n",
    "\n",
    "</ul>\n",
    "\n",
    ">We will evaluate the data quality in the six dimensions as shown. Before evaluating our data, we need to understand our data by exploring the data in Python land."
   ]
  },
  {
   "cell_type": "markdown",
   "metadata": {},
   "source": [
    "### Import Libraries and Load Datasets"
   ]
  },
  {
   "cell_type": "code",
   "execution_count": 1,
   "metadata": {},
   "outputs": [],
   "source": [
    "import pandas as pd\n",
    "from pandas import read_csv\n",
    "import plotly.offline as py\n",
    "import plotly.express as px\n",
    "import folium\n",
    "import numpy as np\n",
    "from numpy import mean\n",
    "import xgboost as xgb\n",
    "from xgboost import XGBClassifier\n",
    "from sklearn.linear_model import LogisticRegression\n",
    "from sklearn.metrics import confusion_matrix,classification_report\n",
    "from sklearn.model_selection import train_test_split   \n",
    "from sklearn.feature_extraction import DictVectorizer\n",
    "from sklearn.pipeline import Pipeline \n",
    "from sklearn.preprocessing import LabelEncoder\n",
    "from sklearn.preprocessing import OneHotEncoder\n",
    "from sklearn.preprocessing import scale\n",
    "from sklearn.metrics import roc_curve\n",
    "from sklearn.metrics import roc_auc_score\n",
    "from sklearn.model_selection import GridSearchCV\n",
    "from sklearn.model_selection import RandomizedSearchCV\n",
    "from sklearn.ensemble import RandomForestClassifier\n",
    "from sklearn.tree import DecisionTreeClassifier\n",
    "from sklearn.model_selection import cross_val_score\n",
    "from sklearn.model_selection import RepeatedStratifiedKFold\n",
    "from sklearn.svm import SVC\n",
    "from sklearn.model_selection import StratifiedKFold\n",
    "from sklearn.metrics import accuracy_score\n",
    "from sklearn.impute import KNNImputer\n",
    "from sklearn.preprocessing import MinMaxScaler\n",
    "import matplotlib.pyplot as plt\n",
    "from scipy.stats import randint\n",
    "import seaborn as sns\n",
    "import itertools\n",
    "from imblearn.pipeline import Pipeline\n",
    "from imblearn.over_sampling import SMOTE\n",
    "from imblearn.under_sampling import RandomUnderSampler\n",
    "import matplotlib\n",
    "matplotlib.use('Agg')\n",
    "from matplotlib import pyplot\n",
    "from mlxtend.feature_selection import SequentialFeatureSelector as sfs\n",
    "from imblearn.pipeline import Pipeline\n",
    "from imblearn.over_sampling import SMOTE\n",
    "from imblearn.under_sampling import RandomUnderSampler\n",
    "\n",
    "# Our dataset is named as \"data\" initially\n",
    "data=pd.read_csv(\"D:\\\\DS_MiniProject_ANON.csv\")\n",
    "\n",
    "\n",
    "\n"
   ]
  },
  {
   "cell_type": "markdown",
   "metadata": {},
   "source": [
    "### Inspect Data in General"
   ]
  },
  {
   "cell_type": "markdown",
   "metadata": {},
   "source": [
    "```Python\n",
    "\n",
    "#Print the shape of dataset\n",
    "print(data.shape)\n",
    "#The dataset has 130086 observations and 29 columns\n",
    "```\n",
    "\n",
    "> Since there are a bunch of columns in the dataset, we need to change the way we show the output in advance <br> so that we can see the full landscape of our data."
   ]
  },
  {
   "cell_type": "markdown",
   "metadata": {},
   "source": [
    "```Python\n",
    "pd.set_option('display.max_rows', 500)\n",
    "pd.set_option('display.max_columns', 500)\n",
    "```\n",
    "\n",
    ">Then let's skim through our dataset. This initial exploratory analysis is a crucial first step of data cleaning."
   ]
  },
  {
   "cell_type": "code",
   "execution_count": 168,
   "metadata": {},
   "outputs": [],
   "source": [
    "pd.set_option('display.max_rows', 10)\n",
    "pd.set_option('display.max_columns', 50)"
   ]
  },
  {
   "cell_type": "markdown",
   "metadata": {},
   "source": [
    "```Python\n",
    "# Print the head of dataset\n",
    "print(data.head(2))\n",
    "\n",
    "      \n",
    "# Print the type of each column \n",
    "data.dtypes\n",
    "\n",
    "\n",
    "# Print the missing values\n",
    "\n",
    "print(data.info())\n",
    "```\n",
    "\n"
   ]
  },
  {
   "cell_type": "code",
   "execution_count": 2,
   "metadata": {},
   "outputs": [
    {
     "name": "stderr",
     "output_type": "stream",
     "text": [
      "INFO:numexpr.utils:NumExpr defaulting to 4 threads.\n"
     ]
    },
    {
     "data": {
      "text/plain": [
       "26.306045340050378"
      ]
     },
     "execution_count": 2,
     "metadata": {},
     "output_type": "execute_result"
    }
   ],
   "source": [
    "(data.Call_Flag==0).sum()/(data.Call_Flag==1).sum()\n",
    "#The target variable has a severe imbalance problem. The majority is 26 times of the minority in the target variable.\n",
    "#It might cause poor performance of our data."
   ]
  },
  {
   "cell_type": "markdown",
   "metadata": {},
   "source": [
    ">There are some data quality issues here.\n",
    "\n",
    "> <li>Variables like 'CHANNEL1_6M','CHANNEL2_6M','CHANNEL3_6M','CHANNEL4_6M' ,'CHANNEL5_6M', should be the integer format, which may violate the <b>validity</b> of the quality </li>\n",
    "> <li>There are some missing values in the some variables in the dataset, which may violate the <b>completeness</b> of the quality check </li>\n",
    "> <li>The target variable has a severe imbalance problem, which might cause poor performance of our data.</li>\n",
    "\n",
    ">We will check data quality according to the dimensions of data quality."
   ]
  },
  {
   "cell_type": "markdown",
   "metadata": {},
   "source": [
    "### Data Quality Check: Uniqueness"
   ]
  },
  {
   "cell_type": "markdown",
   "metadata": {},
   "source": [
    "> To check the data quality in terms of uniqueness, we need to check whether there are any duplicate observations in each dataset. We use  <b><i>.duplicated().sum()</i> </b>method to check the uniqueness of our dataset.\n",
    "\n",
    "```Python\n",
    "print(data.duplicated().sum())\n",
    "\n",
    "\n",
    "\n",
    "```\n",
    ">There are 278 observations of duplicate data in the dataset."
   ]
  },
  {
   "cell_type": "markdown",
   "metadata": {},
   "source": [
    "### Data Quality Check: Completeness"
   ]
  },
  {
   "cell_type": "markdown",
   "metadata": {},
   "source": [
    "> To check the data quality in terms of completeness, we need to check whether there are any missing values in each dataset. We use <b> <i>.isnull().sum()</i> </b> method to check the completeness of our dataset.\n",
    "\n",
    "```Python\n",
    "\n",
    "#check the number of missing value in each column of the dataset\n",
    "data.isnull().sum()\n",
    "\n",
    "\n",
    "```\n",
    "> There are some missing values for the following variables: 'CHANNEL1_6M', 'CHANNEL2_6M','CHANNEL3_6M','CHANNEL4_6M' ,'CHANNEL5_6M', METHOD1_6M','RECENT_PAYMENT', 'PAYMENTS_6M'. Each variable has 809 rows of missing data, which is very suspecious. We need to check it out whether those 809 missing values is a coincidence or not.\n",
    "\n",
    ">To figure out the suspicious 809 missing values in the 8 above variables, first, I need to reset index of the dataset so that we have a new column \"index\" which represents the unique ID for each customer. Second,I am trying to figure out whether they come from the same 809 customers.\n"
   ]
  },
  {
   "cell_type": "code",
   "execution_count": 3,
   "metadata": {},
   "outputs": [
    {
     "name": "stdout",
     "output_type": "stream",
     "text": [
      "809\n",
      "809\n",
      "809\n",
      "809\n",
      "809\n",
      "809\n",
      "809\n",
      "809\n"
     ]
    }
   ],
   "source": [
    "resetdata=data.reset_index() # reset index\n",
    "\n",
    "#check whether they come from the same 809 customers\n",
    "print(sum(list(resetdata[resetdata['CHANNEL1_6M'].isnull()].index==resetdata[resetdata['CHANNEL2_6M'].isnull()].index)))\n",
    "print(sum(list(resetdata[resetdata['CHANNEL2_6M'].isnull()].index==resetdata[resetdata['CHANNEL3_6M'].isnull()].index)))\n",
    "print(sum(list(resetdata[resetdata['CHANNEL3_6M'].isnull()].index==resetdata[resetdata['CHANNEL4_6M'].isnull()].index)))\n",
    "print(sum(list(resetdata[resetdata['CHANNEL4_6M'].isnull()].index==resetdata[resetdata['CHANNEL5_6M'].isnull()].index)))\n",
    "print(sum(list(resetdata[resetdata['CHANNEL5_6M'].isnull()].index==resetdata[resetdata['CHANNEL4_6M'].isnull()].index)))\n",
    "print(sum(list(resetdata[resetdata['METHOD1_6M'].isnull()].index==resetdata[resetdata['CHANNEL1_6M'].isnull()].index)))\n",
    "print(sum(list(resetdata[resetdata['RECENT_PAYMENT'].isnull()].index==resetdata[resetdata['CHANNEL1_6M'].isnull()].index)))\n",
    "print(sum(list(resetdata[resetdata['PAYMENTS_6M'].isnull()].index==resetdata[resetdata['CHANNEL1_6M'].isnull()].index)))"
   ]
  },
  {
   "cell_type": "markdown",
   "metadata": {},
   "source": [
    ">Surprisingly,it turns out that the missing values in the above 8 variables come from 809 customers. Then who are they?\n",
    ">We can find the unique ID of them"
   ]
  },
  {
   "cell_type": "code",
   "execution_count": 4,
   "metadata": {},
   "outputs": [
    {
     "data": {
      "text/plain": [
       "Int64Index([   365,    869,   1051,   1413,   1468,   1547,   1804,   2143,\n",
       "              2273,   2289,\n",
       "            ...\n",
       "            129366, 129400, 129427, 129541, 129548, 129577, 129688, 129767,\n",
       "            129980, 130055],\n",
       "           dtype='int64', length=809)"
      ]
     },
     "execution_count": 4,
     "metadata": {},
     "output_type": "execute_result"
    }
   ],
   "source": [
    "data[data['CHANNEL1_6M'].isnull()].index\n",
    "#These IDs showing which customers have the missing data problem"
   ]
  },
  {
   "cell_type": "markdown",
   "metadata": {},
   "source": [
    "### Data Quality Check: Validity"
   ]
  },
  {
   "cell_type": "markdown",
   "metadata": {},
   "source": [
    "```Python\n",
    "# To check validity, we can use the method value_counts() to see if there are any abnormal or extreme values in each variable. \n",
    "print(data['CHANNEL1_6M'].value_counts(dropna=False))\n",
    "print(data['CHANNEL2_6M'].value_counts(dropna=False))\n",
    "print(data['CHANNEL3_6M'].value_counts(dropna=False))\n",
    "print(data['CHANNEL4_6M'].value_counts(dropna=False))\n",
    "print(data['CHANNEL5_6M'].value_counts(dropna=False))\n",
    "print(data['METHOD1_6M'].value_counts(dropna=False))\n",
    "print(data['RECENT_PAYMENT'].value_counts(dropna=False))\n",
    "print(data['PAYMENTS_6M'].value_counts(dropna=False))\n",
    "print(data['CustomerSegment'].value_counts(dropna=False))\n",
    "print(data['EVENT1_30_FLAG'].value_counts(dropna=False)) \n",
    "print(data.dtypes)\n",
    "```\n",
    "\n",
    ">In those columns, some issues are violating the <b>validity</b> principle. \n",
    "\n",
    "\n",
    "> <li>The variable 'EVENT1_30_FLAG' has the same values across 129808 observations, which has zero standard deviation and doesn't help our models.  </li>\n",
    "> <li>In the 'CustomerSegment' Variable, there are values recorded as \"None\".   </li>\n",
    "> <li>Some variables should be in integer format instead of float format according to the definition.   </li>\n"
   ]
  },
  {
   "cell_type": "markdown",
   "metadata": {},
   "source": [
    "### Data Quality Check: Accuracy"
   ]
  },
  {
   "cell_type": "markdown",
   "metadata": {},
   "source": [
    "> We will use our common sense or domain knowledge to check whether the data is accurate. Based on our business understanding, the tenure should be less than the age for a policyholder. Also, the number of payments made through the same channel in last 6 months should be larger or equal to the number of payments made through the same channel in last 3 months. The Number of total payments in last 6 months should be larger or equal to the Number of total payments in last 6 months."
   ]
  },
  {
   "cell_type": "code",
   "execution_count": 5,
   "metadata": {},
   "outputs": [
    {
     "name": "stdout",
     "output_type": "stream",
     "text": [
      "0\n",
      "10\n",
      "0\n",
      "0\n",
      "0\n",
      "0\n",
      "0\n"
     ]
    }
   ],
   "source": [
    "print(sum(data.PAYMENTS_6M<data.PAYMENTS_3M))\n",
    "print(sum(data.Age<data.Tenure))\n",
    "print(sum(data.CHANNEL1_6M<data.CHANNEL1_3M))\n",
    "print(sum(data.CHANNEL2_6M<data.CHANNEL2_3M))\n",
    "print(sum(data.CHANNEL2_6M<data.CHANNEL2_3M))\n",
    "print(sum(data.CHANNEL2_6M<data.CHANNEL2_3M))\n",
    "print(sum(data.CHANNEL2_6M<data.CHANNEL2_3M))"
   ]
  },
  {
   "cell_type": "markdown",
   "metadata": {},
   "source": [
    ">There are 10 observations where the tenure is longer than the age of the policyholder, which is not acurrate. We should delete these observations. Other variables look perfect."
   ]
  },
  {
   "cell_type": "markdown",
   "metadata": {},
   "source": [
    "### Data quality insights and conclusion"
   ]
  },
  {
   "cell_type": "markdown",
   "metadata": {},
   "source": [
    ">So far, we have figured out the landscape of the datasets. The dataset contains data on customers who have had a bill due in the next 5 days and whether they made a service payment call. \n",
    "\n",
    "\n",
    ">Insight 1: The dataset violates the <b>uniqueness</b> principle. There are 278 observations of duplicate data in the dataset. We should delete them.\n",
    "\n",
    ">Insight 2: The dataset violates the <b>completeness </b> principle. There are 809 suspicious NaN values, which represent missing data. Meanwhile, In the 'CustomerSegment' variable, some abnormal values are recorded as\"None,\" meaning the missing values.\n",
    "\n",
    "\n",
    ">Insight 3: The 'EVENT1_30_FLAG' column in the dataset has the same values across all customers, which violates the <b>validity</b> principle. We should delete this variable.\n",
    "\n",
    ">Insight 4: Some variables should be in integer format instead of float format according to the definition, which violates the principle of <b>validity</b>. We should convert them into integer format.\n",
    "\n",
    ">Insight 5: The dataset violates the <b>accuracy</b> principle.There are 10 observations where the tenure is longer than the age of the policyholder, which is not acurrate. We should delete these observations. \n",
    "\n",
    ">Insight 6: The target variable has a severe imbalance problem. The majority is 26 times of the minority in the target variable. It might cause poor performance of our data."
   ]
  },
  {
   "cell_type": "markdown",
   "metadata": {},
   "source": [
    "## Data Munging"
   ]
  },
  {
   "cell_type": "markdown",
   "metadata": {},
   "source": [
    "### Improve Data Quality "
   ]
  },
  {
   "cell_type": "markdown",
   "metadata": {},
   "source": [
    ">After figuring out the data quality issues, in the next step we want to improve data quality. We would firstly delete the duplicated values in the dataset because each row of data should represent a unique customer. "
   ]
  },
  {
   "cell_type": "code",
   "execution_count": 26,
   "metadata": {},
   "outputs": [
    {
     "name": "stdout",
     "output_type": "stream",
     "text": [
      "(129808, 29)\n"
     ]
    }
   ],
   "source": [
    "data=data.drop_duplicates(subset=None, keep='first', inplace=False, ignore_index=False)\n",
    "print(data.shape)"
   ]
  },
  {
   "cell_type": "markdown",
   "metadata": {},
   "source": [
    ">After delete the duplicated observations, now the dataset has 129808 observations and 29 columns. Then we only keep those rows where the 'Tenure\" variable is smaller than the 'Age' variable and delete the variable 'EVENT1_30_FLAG' since it has 0 of standard deviation."
   ]
  },
  {
   "cell_type": "code",
   "execution_count": 27,
   "metadata": {},
   "outputs": [
    {
     "name": "stdout",
     "output_type": "stream",
     "text": [
      "(129798, 28)\n"
     ]
    }
   ],
   "source": [
    "data=data[data.Tenure<=data.Age] #keep those rows where the 'Tenure\" variable is smaller than the 'Age' variable.\n",
    "data = data.drop( ['EVENT1_30_FLAG'] ,axis=\"columns\")#delete the variable 'EVENT1_30_FLAG'\n",
    "print(data.shape)\n",
    "#We now have 129898 rows and 28 columns."
   ]
  },
  {
   "cell_type": "markdown",
   "metadata": {},
   "source": [
    "### Imputing Missing Values with Business Understanding"
   ]
  },
  {
   "cell_type": "markdown",
   "metadata": {},
   "source": [
    ">Then we are gonna interpolate the missing values for the following variables: CHANNEL1_6M, CHANNEL2_6M,CHANNEL3_6M,CHANNEL4_6M , CHANNEL5_6M, METHOD1_6M, RECENT_PAYMENT, PAYMENTS_6M.\n",
    "\n",
    ">From business understanding, we need to make a few assumptions before we interpolate missing values.\n",
    "> <li>If the years of tenure of the company for the customer is less than 6 months, we would assume they have the same number of payments made through the same Channel between the last 6 months and last 3 months </li>\n",
    "> <li>If the company's years of tenure for the customer are longer than 6 months, then we suppose the customer's payment behavior shouldn't change dramatically. </li>\n",
    "\n",
    ">According to our first assumption, we would interpolate the missing values in the number of payments made through the Channel in the last 6 months with values in the variable representing the number of payments made through the Channel in the previous 3 months"
   ]
  },
  {
   "cell_type": "code",
   "execution_count": 31,
   "metadata": {},
   "outputs": [
    {
     "name": "stderr",
     "output_type": "stream",
     "text": [
      "C:\\Users\\Administrator\\Anaconda3\\lib\\site-packages\\ipykernel_launcher.py:5: SettingWithCopyWarning:\n",
      "\n",
      "\n",
      "A value is trying to be set on a copy of a slice from a DataFrame.\n",
      "Try using .loc[row_indexer,col_indexer] = value instead\n",
      "\n",
      "See the caveats in the documentation: https://pandas.pydata.org/pandas-docs/stable/user_guide/indexing.html#returning-a-view-versus-a-copy\n",
      "\n",
      "C:\\Users\\Administrator\\Anaconda3\\lib\\site-packages\\ipykernel_launcher.py:6: SettingWithCopyWarning:\n",
      "\n",
      "\n",
      "A value is trying to be set on a copy of a slice from a DataFrame.\n",
      "Try using .loc[row_indexer,col_indexer] = value instead\n",
      "\n",
      "See the caveats in the documentation: https://pandas.pydata.org/pandas-docs/stable/user_guide/indexing.html#returning-a-view-versus-a-copy\n",
      "\n",
      "C:\\Users\\Administrator\\Anaconda3\\lib\\site-packages\\ipykernel_launcher.py:7: SettingWithCopyWarning:\n",
      "\n",
      "\n",
      "A value is trying to be set on a copy of a slice from a DataFrame.\n",
      "Try using .loc[row_indexer,col_indexer] = value instead\n",
      "\n",
      "See the caveats in the documentation: https://pandas.pydata.org/pandas-docs/stable/user_guide/indexing.html#returning-a-view-versus-a-copy\n",
      "\n",
      "C:\\Users\\Administrator\\Anaconda3\\lib\\site-packages\\ipykernel_launcher.py:8: SettingWithCopyWarning:\n",
      "\n",
      "\n",
      "A value is trying to be set on a copy of a slice from a DataFrame.\n",
      "Try using .loc[row_indexer,col_indexer] = value instead\n",
      "\n",
      "See the caveats in the documentation: https://pandas.pydata.org/pandas-docs/stable/user_guide/indexing.html#returning-a-view-versus-a-copy\n",
      "\n",
      "C:\\Users\\Administrator\\Anaconda3\\lib\\site-packages\\ipykernel_launcher.py:9: SettingWithCopyWarning:\n",
      "\n",
      "\n",
      "A value is trying to be set on a copy of a slice from a DataFrame.\n",
      "Try using .loc[row_indexer,col_indexer] = value instead\n",
      "\n",
      "See the caveats in the documentation: https://pandas.pydata.org/pandas-docs/stable/user_guide/indexing.html#returning-a-view-versus-a-copy\n",
      "\n",
      "C:\\Users\\Administrator\\Anaconda3\\lib\\site-packages\\ipykernel_launcher.py:10: SettingWithCopyWarning:\n",
      "\n",
      "\n",
      "A value is trying to be set on a copy of a slice from a DataFrame.\n",
      "Try using .loc[row_indexer,col_indexer] = value instead\n",
      "\n",
      "See the caveats in the documentation: https://pandas.pydata.org/pandas-docs/stable/user_guide/indexing.html#returning-a-view-versus-a-copy\n",
      "\n",
      "C:\\Users\\Administrator\\Anaconda3\\lib\\site-packages\\ipykernel_launcher.py:11: SettingWithCopyWarning:\n",
      "\n",
      "\n",
      "A value is trying to be set on a copy of a slice from a DataFrame.\n",
      "Try using .loc[row_indexer,col_indexer] = value instead\n",
      "\n",
      "See the caveats in the documentation: https://pandas.pydata.org/pandas-docs/stable/user_guide/indexing.html#returning-a-view-versus-a-copy\n",
      "\n",
      "C:\\Users\\Administrator\\Anaconda3\\lib\\site-packages\\ipykernel_launcher.py:15: SettingWithCopyWarning:\n",
      "\n",
      "\n",
      "A value is trying to be set on a copy of a slice from a DataFrame.\n",
      "Try using .loc[row_indexer,col_indexer] = value instead\n",
      "\n",
      "See the caveats in the documentation: https://pandas.pydata.org/pandas-docs/stable/user_guide/indexing.html#returning-a-view-versus-a-copy\n",
      "\n",
      "C:\\Users\\Administrator\\Anaconda3\\lib\\site-packages\\ipykernel_launcher.py:16: SettingWithCopyWarning:\n",
      "\n",
      "\n",
      "A value is trying to be set on a copy of a slice from a DataFrame.\n",
      "Try using .loc[row_indexer,col_indexer] = value instead\n",
      "\n",
      "See the caveats in the documentation: https://pandas.pydata.org/pandas-docs/stable/user_guide/indexing.html#returning-a-view-versus-a-copy\n",
      "\n",
      "C:\\Users\\Administrator\\Anaconda3\\lib\\site-packages\\ipykernel_launcher.py:17: SettingWithCopyWarning:\n",
      "\n",
      "\n",
      "A value is trying to be set on a copy of a slice from a DataFrame.\n",
      "Try using .loc[row_indexer,col_indexer] = value instead\n",
      "\n",
      "See the caveats in the documentation: https://pandas.pydata.org/pandas-docs/stable/user_guide/indexing.html#returning-a-view-versus-a-copy\n",
      "\n",
      "C:\\Users\\Administrator\\Anaconda3\\lib\\site-packages\\ipykernel_launcher.py:18: SettingWithCopyWarning:\n",
      "\n",
      "\n",
      "A value is trying to be set on a copy of a slice from a DataFrame.\n",
      "Try using .loc[row_indexer,col_indexer] = value instead\n",
      "\n",
      "See the caveats in the documentation: https://pandas.pydata.org/pandas-docs/stable/user_guide/indexing.html#returning-a-view-versus-a-copy\n",
      "\n",
      "C:\\Users\\Administrator\\Anaconda3\\lib\\site-packages\\ipykernel_launcher.py:19: SettingWithCopyWarning:\n",
      "\n",
      "\n",
      "A value is trying to be set on a copy of a slice from a DataFrame.\n",
      "Try using .loc[row_indexer,col_indexer] = value instead\n",
      "\n",
      "See the caveats in the documentation: https://pandas.pydata.org/pandas-docs/stable/user_guide/indexing.html#returning-a-view-versus-a-copy\n",
      "\n",
      "C:\\Users\\Administrator\\Anaconda3\\lib\\site-packages\\ipykernel_launcher.py:20: SettingWithCopyWarning:\n",
      "\n",
      "\n",
      "A value is trying to be set on a copy of a slice from a DataFrame.\n",
      "Try using .loc[row_indexer,col_indexer] = value instead\n",
      "\n",
      "See the caveats in the documentation: https://pandas.pydata.org/pandas-docs/stable/user_guide/indexing.html#returning-a-view-versus-a-copy\n",
      "\n",
      "C:\\Users\\Administrator\\Anaconda3\\lib\\site-packages\\ipykernel_launcher.py:21: SettingWithCopyWarning:\n",
      "\n",
      "\n",
      "A value is trying to be set on a copy of a slice from a DataFrame.\n",
      "Try using .loc[row_indexer,col_indexer] = value instead\n",
      "\n",
      "See the caveats in the documentation: https://pandas.pydata.org/pandas-docs/stable/user_guide/indexing.html#returning-a-view-versus-a-copy\n",
      "\n"
     ]
    }
   ],
   "source": [
    "#For those rows where the tenure is less than 6 months,\n",
    "#assume they have the same number of payments made through the same Channel between last 6 months and last 3 months\n",
    "data1=data[data['CHANNEL1_6M'].isnull()]\n",
    "missingvalue1=data1.loc[data1.Tenure<0.5]\n",
    "missingvalue1['CHANNEL1_6M']=missingvalue1['CHANNEL1_3M']\n",
    "missingvalue1['CHANNEL2_6M']=missingvalue1['CHANNEL2_3M']\n",
    "missingvalue1['CHANNEL3_6M']=missingvalue1['CHANNEL3_3M']\n",
    "missingvalue1['CHANNEL4_6M']=missingvalue1['CHANNEL4_3M']\n",
    "missingvalue1['CHANNEL5_6M']=missingvalue1['CHANNEL5_3M']\n",
    "missingvalue1['METHOD1_6M']=missingvalue1['METHOD1_3M']\n",
    "missingvalue1['PAYMENTS_6M']=missingvalue1['PAYMENTS_3M']\n",
    "#According to our second assumption, the number of payments made through the Channel in the last 6 months \n",
    "#should be 2 times of the number of payments made through the Channel in the last 3 months\n",
    "missingvalue2=data1.loc[data1.Tenure>=0.5]\n",
    "missingvalue2['CHANNEL1_6M']=missingvalue2['CHANNEL1_3M']*2\n",
    "missingvalue2['CHANNEL2_6M']=missingvalue2['CHANNEL2_3M']*2\n",
    "missingvalue2['CHANNEL3_6M']=missingvalue2['CHANNEL3_3M']*2\n",
    "missingvalue2['CHANNEL4_6M']=missingvalue2['CHANNEL4_3M']*2\n",
    "missingvalue2['CHANNEL5_6M']=missingvalue2['CHANNEL5_3M']*2\n",
    "missingvalue2['METHOD1_6M']=missingvalue2['METHOD1_3M']*2\n",
    "missingvalue2['PAYMENTS_6M']=missingvalue2['PAYMENTS_3M']*2\n",
    "missingvalue=pd.concat([missingvalue1,missingvalue2])\n",
    "\n"
   ]
  },
  {
   "cell_type": "code",
   "execution_count": 32,
   "metadata": {},
   "outputs": [],
   "source": [
    "data2=data[data['CHANNEL1_6M'].notnull()]\n",
    "finaldata=pd.concat([missingvalue,data2])\n",
    "finaldata=finaldata.reset_index()\n",
    "\n"
   ]
  },
  {
   "cell_type": "markdown",
   "metadata": {},
   "source": [
    "### Imputing missing values with K Nearest Neighbor"
   ]
  },
  {
   "cell_type": "markdown",
   "metadata": {},
   "source": [
    ">Next step is to deal with two tough variables: RECENT_PAYMENT and CustomerSegment. We are using k nearest neighbor to interpolate the missing values here. We suppose customers with similar features will have similar result in these two variables. KNN will do the classification for such scenarioes well. Firstly, convert the \"None\" value in CustomerSegment to missing values.Noted that we also need to create dummy variables for categorical variable because KNN don't consider text data. To better use KNN, we use min-max scale.\n",
    "\n",
    ">After imputing the missing values, we will fix the data type issues."
   ]
  },
  {
   "cell_type": "code",
   "execution_count": 34,
   "metadata": {},
   "outputs": [
    {
     "data": {
      "text/plain": [
       "0           2\n",
       "1           1\n",
       "2           2\n",
       "3           2\n",
       "4           1\n",
       "         ... \n",
       "129793    NaN\n",
       "129794    NaN\n",
       "129795    NaN\n",
       "129796    NaN\n",
       "129797      3\n",
       "Name: CustomerSegment, Length: 129798, dtype: object"
      ]
     },
     "execution_count": 34,
     "metadata": {},
     "output_type": "execute_result"
    }
   ],
   "source": [
    "#finaldata[finaldata.CustomerSegment==\"NONE\"].CustomerSegment=np.nan\n",
    "finaldata.CustomerSegment=np.where(finaldata.CustomerSegment==\"NONE\", np.nan, finaldata.CustomerSegment)\n",
    "#finaldata.isnull().sum()\n",
    "finaldata.CustomerSegment"
   ]
  },
  {
   "cell_type": "code",
   "execution_count": 35,
   "metadata": {},
   "outputs": [],
   "source": [
    "\n",
    "cat_variables = finaldata[['RTD_ST_CD', 'CustomerSegment','MART_STATUS','GENDER']]\n",
    "cat_dummies = pd.get_dummies(cat_variables, drop_first=True)\n",
    "\n",
    "finaldata = finaldata.drop(['index','DATE_FOR','RTD_ST_CD', 'CustomerSegment','MART_STATUS','GENDER'], axis=1)#delete DATE_FOR because its meaningless\n",
    "df = pd.concat([finaldata, cat_dummies], axis=1)\n",
    "df.head()\n",
    "\n",
    "scaler = MinMaxScaler()\n",
    "df = pd.DataFrame(scaler.fit_transform(df), columns = df.columns)\n",
    "df.head()\n",
    "imputer = KNNImputer(n_neighbors=5)\n",
    "df = pd.DataFrame(imputer.fit_transform(df),columns = df.columns)\n",
    "\n"
   ]
  },
  {
   "cell_type": "markdown",
   "metadata": {},
   "source": [
    ">Then we are going to fix wrong data formats. "
   ]
  },
  {
   "cell_type": "code",
   "execution_count": 47,
   "metadata": {},
   "outputs": [],
   "source": [
    "finaldata=df\n",
    "finaldata['CHANNEL1_6M']=finaldata['CHANNEL1_6M'].astype(\"int\")\n",
    "finaldata['CHANNEL2_6M']=finaldata['CHANNEL2_6M'].astype(\"int\")\n",
    "finaldata['CHANNEL3_6M']=finaldata['CHANNEL3_6M'].astype(\"int\")\n",
    "finaldata['CHANNEL4_6M']=finaldata['CHANNEL4_6M'].astype(\"int\")\n",
    "finaldata['CHANNEL5_6M']=finaldata['CHANNEL5_6M'].astype(\"int\")\n",
    "finaldata['METHOD1_6M']=finaldata['METHOD1_6M'].astype(\"int\")\n",
    "finaldata['RECENT_PAYMENT']=finaldata['RECENT_PAYMENT'].astype(\"int\")\n",
    "finaldata['PAYMENTS_6M']=finaldata['PAYMENTS_6M'].astype(\"int\")\n",
    "finaldata['Call_Flag']=finaldata['Call_Flag'].astype(\"int\")\n",
    "finaldata['POLICYPURCHASECHANNEL']=finaldata['POLICYPURCHASECHANNEL'].astype(\"int\")\n",
    "finaldata['NOT_DI_6M']=finaldata['NOT_DI_6M'].astype(\"int\")\n",
    "finaldata['NOT_DI_3M']=finaldata['NOT_DI_3M'].astype(\"int\")\n",
    "finaldata['GENDER_M']=finaldata['GENDER_M'].astype(\"int\")\n",
    "finaldata['MART_STATUS_MS_S4']=finaldata['MART_STATUS_MS_S4'].astype(\"int\")\n",
    "finaldata['MART_STATUS_MS_S3']=finaldata['MART_STATUS_MS_S3'].astype(\"int\")\n",
    "finaldata['MART_STATUS_MS_S2']=finaldata['MART_STATUS_MS_S2'].astype(\"int\")\n",
    "finaldata['MART_STATUS_MS_S1']=finaldata['MART_STATUS_MS_S1'].astype(\"int\")\n",
    "finaldata['CustomerSegment_2']=finaldata['CustomerSegment_2'].astype(\"int\")\n",
    "finaldata['CustomerSegment_3']=finaldata['CustomerSegment_3'].astype(\"int\")\n",
    "#a=['RTD_ST_CD_ST_S1','RTD_ST_CD_ST_S10','RTD_ST_CD_ST_S11','RTD_ST_CD_ST_S12','RTD_ST_CD_ST_S13','RTD_ST_CD_ST_S14','RTD_ST_CD_ST_S15','RTD_ST_CD_ST_S16','RTD_ST_CD_ST_S17','RTD_ST_CD_ST_S18','RTD_ST_CD_ST_S19','RTD_ST_CD_ST_S2','RTD_ST_CD_ST_S20','RTD_ST_CD_ST_S21','RTD_ST_CD_ST_S22','RTD_ST_CD_ST_S23','RTD_ST_CD_ST_S24','RTD_ST_CD_ST_S25','RTD_ST_CD_ST_S26','RTD_ST_CD_ST_S27','RTD_ST_CD_ST_S28','RTD_ST_CD_ST_S29','RTD_ST_CD_ST_S3','RTD_ST_CD_ST_S30','RTD_ST_CD_ST_S31','RTD_ST_CD_ST_S32','RTD_ST_CD_ST_S33','RTD_ST_CD_ST_S34','RTD_ST_CD_ST_S35','RTD_ST_CD_ST_S36','RTD_ST_CD_ST_S37','RTD_ST_CD_ST_S38','RTD_ST_CD_ST_S39','RTD_ST_CD_ST_S4','RTD_ST_CD_ST_S40','RTD_ST_CD_ST_S41','RTD_ST_CD_ST_S42','RTD_ST_CD_ST_S43','RTD_ST_CD_ST_S44','RTD_ST_CD_ST_S45','RTD_ST_CD_ST_S46','RTD_ST_CD_ST_S47','RTD_ST_CD_ST_S48','RTD_ST_CD_ST_S49','RTD_ST_CD_ST_S5','RTD_ST_CD_ST_S50','RTD_ST_CD_ST_S6','RTD_ST_CD_ST_S7','RTD_ST_CD_ST_S8','RTD_ST_CD_ST_S9']   \n",
    "#finaldata[a]=finaldata[a].astype(\"int\")"
   ]
  },
  {
   "cell_type": "code",
   "execution_count": 48,
   "metadata": {},
   "outputs": [
    {
     "data": {
      "text/plain": [
       "Tenure               0\n",
       "Age                  0\n",
       "CHANNEL1_6M          0\n",
       "CHANNEL2_6M          0\n",
       "CHANNEL3_6M          0\n",
       "                    ..\n",
       "MART_STATUS_MS_S1    0\n",
       "MART_STATUS_MS_S2    0\n",
       "MART_STATUS_MS_S3    0\n",
       "MART_STATUS_MS_S4    0\n",
       "GENDER_M             0\n",
       "Length: 80, dtype: int64"
      ]
     },
     "execution_count": 48,
     "metadata": {},
     "output_type": "execute_result"
    }
   ],
   "source": [
    "#Take a look at our data\n",
    "df.isnull().sum()"
   ]
  },
  {
   "cell_type": "code",
   "execution_count": 14,
   "metadata": {},
   "outputs": [
    {
     "data": {
      "text/plain": [
       "Tenure               float64\n",
       "Age                  float64\n",
       "CHANNEL1_6M            int32\n",
       "CHANNEL2_6M            int32\n",
       "CHANNEL3_6M            int32\n",
       "                      ...   \n",
       "MART_STATUS_MS_S1      int32\n",
       "MART_STATUS_MS_S2      int32\n",
       "MART_STATUS_MS_S3      int32\n",
       "MART_STATUS_MS_S4      int32\n",
       "GENDER_M               int32\n",
       "Length: 80, dtype: object"
      ]
     },
     "execution_count": 14,
     "metadata": {},
     "output_type": "execute_result"
    }
   ],
   "source": [
    "df.dtypes"
   ]
  },
  {
   "cell_type": "markdown",
   "metadata": {},
   "source": [
    ">The missing values are all imputated appropriately and the type for each variable looks good! Let's move to engineer our features."
   ]
  },
  {
   "cell_type": "markdown",
   "metadata": {},
   "source": [
    "### Feature Engineering"
   ]
  },
  {
   "cell_type": "markdown",
   "metadata": {},
   "source": [
    ">We engineered features based on my domain knowledge or manual expertise:"
   ]
  },
  {
   "cell_type": "code",
   "execution_count": 49,
   "metadata": {},
   "outputs": [],
   "source": [
    "#feature engineering\n",
    "finaldata['tenure_age_ratio']=finaldata.Tenure/finaldata.Age\n",
    "finaldata['other_method_3M']=finaldata.PAYMENTS_3M-finaldata.METHOD1_3M #number of payments of other methods in the last 3M except method 1\n",
    "finaldata['other_method_6M']=finaldata.PAYMENTS_6M-finaldata.METHOD1_6M#number of payments of other methods in the last 6M except method 1\n",
    "finaldata['method1_minus_channel_3M']=finaldata.METHOD1_3M-finaldata.CHANNEL1_3M-finaldata.CHANNEL2_3M-finaldata.CHANNEL3_3M-finaldata.CHANNEL4_3M-finaldata.CHANNEL5_3M\n",
    "finaldata['method1_minus_channel_6M']=finaldata.METHOD1_6M-finaldata.CHANNEL1_6M-finaldata.CHANNEL2_6M-finaldata.CHANNEL3_6M-finaldata.CHANNEL4_6M-finaldata.CHANNEL5_6M\n",
    "finaldata['payments_minus_channel_3M']=finaldata.PAYMENTS_3M-finaldata.CHANNEL1_3M-finaldata.CHANNEL2_3M-finaldata.CHANNEL3_3M-finaldata.CHANNEL4_3M-finaldata.CHANNEL5_3M\n",
    "finaldata['payments_minus_channel_6M']=finaldata.PAYMENTS_6M-finaldata.CHANNEL1_6M-finaldata.CHANNEL2_6M-finaldata.CHANNEL3_6M-finaldata.CHANNEL4_6M-finaldata.CHANNEL5_6M\n"
   ]
  },
  {
   "cell_type": "code",
   "execution_count": 60,
   "metadata": {},
   "outputs": [
    {
     "data": {
      "text/html": [
       "<div>\n",
       "<style scoped>\n",
       "    .dataframe tbody tr th:only-of-type {\n",
       "        vertical-align: middle;\n",
       "    }\n",
       "\n",
       "    .dataframe tbody tr th {\n",
       "        vertical-align: top;\n",
       "    }\n",
       "\n",
       "    .dataframe thead th {\n",
       "        text-align: right;\n",
       "    }\n",
       "</style>\n",
       "<table border=\"1\" class=\"dataframe\">\n",
       "  <thead>\n",
       "    <tr style=\"text-align: right;\">\n",
       "      <th></th>\n",
       "      <th>Tenure</th>\n",
       "      <th>Age</th>\n",
       "      <th>CHANNEL1_6M</th>\n",
       "      <th>CHANNEL2_6M</th>\n",
       "      <th>CHANNEL3_6M</th>\n",
       "      <th>CHANNEL4_6M</th>\n",
       "      <th>CHANNEL5_6M</th>\n",
       "      <th>METHOD1_6M</th>\n",
       "      <th>RECENT_PAYMENT</th>\n",
       "      <th>PAYMENTS_6M</th>\n",
       "      <th>...</th>\n",
       "      <th>MART_STATUS_MS_S3</th>\n",
       "      <th>MART_STATUS_MS_S4</th>\n",
       "      <th>GENDER_M</th>\n",
       "      <th>tenure_age_ratio</th>\n",
       "      <th>other_method_3M</th>\n",
       "      <th>other_method_6M</th>\n",
       "      <th>method1_minus_channel_3M</th>\n",
       "      <th>method1_minus_channel_6M</th>\n",
       "      <th>payments_minus_channel_3M</th>\n",
       "      <th>payments_minus_channel_6M</th>\n",
       "    </tr>\n",
       "  </thead>\n",
       "  <tbody>\n",
       "    <tr>\n",
       "      <th>0</th>\n",
       "      <td>0.006469</td>\n",
       "      <td>0.507337</td>\n",
       "      <td>0</td>\n",
       "      <td>0</td>\n",
       "      <td>0</td>\n",
       "      <td>0</td>\n",
       "      <td>0</td>\n",
       "      <td>0</td>\n",
       "      <td>0</td>\n",
       "      <td>0</td>\n",
       "      <td>...</td>\n",
       "      <td>1</td>\n",
       "      <td>0</td>\n",
       "      <td>1</td>\n",
       "      <td>0.012751</td>\n",
       "      <td>0.000000</td>\n",
       "      <td>0</td>\n",
       "      <td>0.0</td>\n",
       "      <td>0</td>\n",
       "      <td>0.000000</td>\n",
       "      <td>0</td>\n",
       "    </tr>\n",
       "    <tr>\n",
       "      <th>1</th>\n",
       "      <td>0.006382</td>\n",
       "      <td>0.409791</td>\n",
       "      <td>0</td>\n",
       "      <td>0</td>\n",
       "      <td>0</td>\n",
       "      <td>0</td>\n",
       "      <td>0</td>\n",
       "      <td>0</td>\n",
       "      <td>0</td>\n",
       "      <td>0</td>\n",
       "      <td>...</td>\n",
       "      <td>0</td>\n",
       "      <td>0</td>\n",
       "      <td>1</td>\n",
       "      <td>0.015575</td>\n",
       "      <td>0.000000</td>\n",
       "      <td>0</td>\n",
       "      <td>0.0</td>\n",
       "      <td>0</td>\n",
       "      <td>0.000000</td>\n",
       "      <td>0</td>\n",
       "    </tr>\n",
       "    <tr>\n",
       "      <th>2</th>\n",
       "      <td>0.006252</td>\n",
       "      <td>0.516213</td>\n",
       "      <td>0</td>\n",
       "      <td>0</td>\n",
       "      <td>0</td>\n",
       "      <td>0</td>\n",
       "      <td>0</td>\n",
       "      <td>0</td>\n",
       "      <td>0</td>\n",
       "      <td>0</td>\n",
       "      <td>...</td>\n",
       "      <td>1</td>\n",
       "      <td>0</td>\n",
       "      <td>1</td>\n",
       "      <td>0.012112</td>\n",
       "      <td>0.000000</td>\n",
       "      <td>0</td>\n",
       "      <td>0.0</td>\n",
       "      <td>0</td>\n",
       "      <td>0.000000</td>\n",
       "      <td>0</td>\n",
       "    </tr>\n",
       "    <tr>\n",
       "      <th>3</th>\n",
       "      <td>0.005080</td>\n",
       "      <td>0.163393</td>\n",
       "      <td>0</td>\n",
       "      <td>0</td>\n",
       "      <td>0</td>\n",
       "      <td>0</td>\n",
       "      <td>0</td>\n",
       "      <td>0</td>\n",
       "      <td>0</td>\n",
       "      <td>0</td>\n",
       "      <td>...</td>\n",
       "      <td>0</td>\n",
       "      <td>0</td>\n",
       "      <td>1</td>\n",
       "      <td>0.031090</td>\n",
       "      <td>0.000000</td>\n",
       "      <td>0</td>\n",
       "      <td>0.0</td>\n",
       "      <td>0</td>\n",
       "      <td>0.000000</td>\n",
       "      <td>0</td>\n",
       "    </tr>\n",
       "    <tr>\n",
       "      <th>4</th>\n",
       "      <td>0.004950</td>\n",
       "      <td>0.512272</td>\n",
       "      <td>0</td>\n",
       "      <td>0</td>\n",
       "      <td>0</td>\n",
       "      <td>0</td>\n",
       "      <td>0</td>\n",
       "      <td>0</td>\n",
       "      <td>0</td>\n",
       "      <td>0</td>\n",
       "      <td>...</td>\n",
       "      <td>0</td>\n",
       "      <td>0</td>\n",
       "      <td>1</td>\n",
       "      <td>0.009662</td>\n",
       "      <td>0.000000</td>\n",
       "      <td>0</td>\n",
       "      <td>0.0</td>\n",
       "      <td>0</td>\n",
       "      <td>0.000000</td>\n",
       "      <td>0</td>\n",
       "    </tr>\n",
       "    <tr>\n",
       "      <th>...</th>\n",
       "      <td>...</td>\n",
       "      <td>...</td>\n",
       "      <td>...</td>\n",
       "      <td>...</td>\n",
       "      <td>...</td>\n",
       "      <td>...</td>\n",
       "      <td>...</td>\n",
       "      <td>...</td>\n",
       "      <td>...</td>\n",
       "      <td>...</td>\n",
       "      <td>...</td>\n",
       "      <td>...</td>\n",
       "      <td>...</td>\n",
       "      <td>...</td>\n",
       "      <td>...</td>\n",
       "      <td>...</td>\n",
       "      <td>...</td>\n",
       "      <td>...</td>\n",
       "      <td>...</td>\n",
       "      <td>...</td>\n",
       "      <td>...</td>\n",
       "    </tr>\n",
       "    <tr>\n",
       "      <th>129793</th>\n",
       "      <td>0.001563</td>\n",
       "      <td>0.357723</td>\n",
       "      <td>0</td>\n",
       "      <td>0</td>\n",
       "      <td>0</td>\n",
       "      <td>0</td>\n",
       "      <td>0</td>\n",
       "      <td>0</td>\n",
       "      <td>0</td>\n",
       "      <td>0</td>\n",
       "      <td>...</td>\n",
       "      <td>0</td>\n",
       "      <td>0</td>\n",
       "      <td>1</td>\n",
       "      <td>0.004369</td>\n",
       "      <td>0.027778</td>\n",
       "      <td>0</td>\n",
       "      <td>0.0</td>\n",
       "      <td>0</td>\n",
       "      <td>0.027778</td>\n",
       "      <td>0</td>\n",
       "    </tr>\n",
       "    <tr>\n",
       "      <th>129794</th>\n",
       "      <td>0.001346</td>\n",
       "      <td>0.240568</td>\n",
       "      <td>0</td>\n",
       "      <td>0</td>\n",
       "      <td>0</td>\n",
       "      <td>0</td>\n",
       "      <td>0</td>\n",
       "      <td>0</td>\n",
       "      <td>0</td>\n",
       "      <td>0</td>\n",
       "      <td>...</td>\n",
       "      <td>0</td>\n",
       "      <td>0</td>\n",
       "      <td>1</td>\n",
       "      <td>0.005595</td>\n",
       "      <td>0.055556</td>\n",
       "      <td>0</td>\n",
       "      <td>0.0</td>\n",
       "      <td>0</td>\n",
       "      <td>0.055556</td>\n",
       "      <td>0</td>\n",
       "    </tr>\n",
       "    <tr>\n",
       "      <th>129795</th>\n",
       "      <td>0.001563</td>\n",
       "      <td>0.486536</td>\n",
       "      <td>0</td>\n",
       "      <td>0</td>\n",
       "      <td>0</td>\n",
       "      <td>0</td>\n",
       "      <td>0</td>\n",
       "      <td>0</td>\n",
       "      <td>1</td>\n",
       "      <td>0</td>\n",
       "      <td>...</td>\n",
       "      <td>1</td>\n",
       "      <td>0</td>\n",
       "      <td>1</td>\n",
       "      <td>0.003213</td>\n",
       "      <td>0.027778</td>\n",
       "      <td>0</td>\n",
       "      <td>0.0</td>\n",
       "      <td>0</td>\n",
       "      <td>0.027778</td>\n",
       "      <td>0</td>\n",
       "    </tr>\n",
       "    <tr>\n",
       "      <th>129796</th>\n",
       "      <td>0.000868</td>\n",
       "      <td>0.086715</td>\n",
       "      <td>0</td>\n",
       "      <td>0</td>\n",
       "      <td>0</td>\n",
       "      <td>0</td>\n",
       "      <td>0</td>\n",
       "      <td>0</td>\n",
       "      <td>1</td>\n",
       "      <td>0</td>\n",
       "      <td>...</td>\n",
       "      <td>0</td>\n",
       "      <td>0</td>\n",
       "      <td>1</td>\n",
       "      <td>0.010014</td>\n",
       "      <td>0.027778</td>\n",
       "      <td>0</td>\n",
       "      <td>0.0</td>\n",
       "      <td>0</td>\n",
       "      <td>0.027778</td>\n",
       "      <td>0</td>\n",
       "    </tr>\n",
       "    <tr>\n",
       "      <th>129797</th>\n",
       "      <td>0.149097</td>\n",
       "      <td>0.188566</td>\n",
       "      <td>0</td>\n",
       "      <td>0</td>\n",
       "      <td>0</td>\n",
       "      <td>0</td>\n",
       "      <td>0</td>\n",
       "      <td>0</td>\n",
       "      <td>0</td>\n",
       "      <td>0</td>\n",
       "      <td>...</td>\n",
       "      <td>0</td>\n",
       "      <td>0</td>\n",
       "      <td>0</td>\n",
       "      <td>0.790688</td>\n",
       "      <td>0.000000</td>\n",
       "      <td>0</td>\n",
       "      <td>0.0</td>\n",
       "      <td>0</td>\n",
       "      <td>0.000000</td>\n",
       "      <td>0</td>\n",
       "    </tr>\n",
       "  </tbody>\n",
       "</table>\n",
       "<p>129798 rows × 87 columns</p>\n",
       "</div>"
      ],
      "text/plain": [
       "          Tenure       Age  CHANNEL1_6M  CHANNEL2_6M  CHANNEL3_6M  \\\n",
       "0       0.006469  0.507337            0            0            0   \n",
       "1       0.006382  0.409791            0            0            0   \n",
       "2       0.006252  0.516213            0            0            0   \n",
       "3       0.005080  0.163393            0            0            0   \n",
       "4       0.004950  0.512272            0            0            0   \n",
       "...          ...       ...          ...          ...          ...   \n",
       "129793  0.001563  0.357723            0            0            0   \n",
       "129794  0.001346  0.240568            0            0            0   \n",
       "129795  0.001563  0.486536            0            0            0   \n",
       "129796  0.000868  0.086715            0            0            0   \n",
       "129797  0.149097  0.188566            0            0            0   \n",
       "\n",
       "        CHANNEL4_6M  CHANNEL5_6M  METHOD1_6M  RECENT_PAYMENT  PAYMENTS_6M  \\\n",
       "0                 0            0           0               0            0   \n",
       "1                 0            0           0               0            0   \n",
       "2                 0            0           0               0            0   \n",
       "3                 0            0           0               0            0   \n",
       "4                 0            0           0               0            0   \n",
       "...             ...          ...         ...             ...          ...   \n",
       "129793            0            0           0               0            0   \n",
       "129794            0            0           0               0            0   \n",
       "129795            0            0           0               1            0   \n",
       "129796            0            0           0               1            0   \n",
       "129797            0            0           0               0            0   \n",
       "\n",
       "        ...  MART_STATUS_MS_S3  MART_STATUS_MS_S4  GENDER_M  tenure_age_ratio  \\\n",
       "0       ...                  1                  0         1          0.012751   \n",
       "1       ...                  0                  0         1          0.015575   \n",
       "2       ...                  1                  0         1          0.012112   \n",
       "3       ...                  0                  0         1          0.031090   \n",
       "4       ...                  0                  0         1          0.009662   \n",
       "...     ...                ...                ...       ...               ...   \n",
       "129793  ...                  0                  0         1          0.004369   \n",
       "129794  ...                  0                  0         1          0.005595   \n",
       "129795  ...                  1                  0         1          0.003213   \n",
       "129796  ...                  0                  0         1          0.010014   \n",
       "129797  ...                  0                  0         0          0.790688   \n",
       "\n",
       "        other_method_3M  other_method_6M  method1_minus_channel_3M  \\\n",
       "0              0.000000                0                       0.0   \n",
       "1              0.000000                0                       0.0   \n",
       "2              0.000000                0                       0.0   \n",
       "3              0.000000                0                       0.0   \n",
       "4              0.000000                0                       0.0   \n",
       "...                 ...              ...                       ...   \n",
       "129793         0.027778                0                       0.0   \n",
       "129794         0.055556                0                       0.0   \n",
       "129795         0.027778                0                       0.0   \n",
       "129796         0.027778                0                       0.0   \n",
       "129797         0.000000                0                       0.0   \n",
       "\n",
       "        method1_minus_channel_6M  payments_minus_channel_3M  \\\n",
       "0                              0                   0.000000   \n",
       "1                              0                   0.000000   \n",
       "2                              0                   0.000000   \n",
       "3                              0                   0.000000   \n",
       "4                              0                   0.000000   \n",
       "...                          ...                        ...   \n",
       "129793                         0                   0.027778   \n",
       "129794                         0                   0.055556   \n",
       "129795                         0                   0.027778   \n",
       "129796                         0                   0.027778   \n",
       "129797                         0                   0.000000   \n",
       "\n",
       "        payments_minus_channel_6M  \n",
       "0                               0  \n",
       "1                               0  \n",
       "2                               0  \n",
       "3                               0  \n",
       "4                               0  \n",
       "...                           ...  \n",
       "129793                          0  \n",
       "129794                          0  \n",
       "129795                          0  \n",
       "129796                          0  \n",
       "129797                          0  \n",
       "\n",
       "[129798 rows x 87 columns]"
      ]
     },
     "execution_count": 60,
     "metadata": {},
     "output_type": "execute_result"
    }
   ],
   "source": [
    "finaldata"
   ]
  },
  {
   "cell_type": "code",
   "execution_count": 55,
   "metadata": {},
   "outputs": [
    {
     "data": {
      "text/plain": [
       "0         0\n",
       "1         0\n",
       "2         0\n",
       "3         0\n",
       "4         0\n",
       "         ..\n",
       "129793    0\n",
       "129794    0\n",
       "129795    0\n",
       "129796    0\n",
       "129797    0\n",
       "Name: method1_minus_channel_6M, Length: 129798, dtype: int32"
      ]
     },
     "execution_count": 55,
     "metadata": {},
     "output_type": "execute_result"
    }
   ],
   "source": [
    "df['method1_minus_channel_6M']\n",
    "#finaldata.METHOD1_6M"
   ]
  },
  {
   "cell_type": "markdown",
   "metadata": {},
   "source": [
    "## Machine Learning Modelling"
   ]
  },
  {
   "cell_type": "markdown",
   "metadata": {},
   "source": [
    "### Feature Selection"
   ]
  },
  {
   "cell_type": "markdown",
   "metadata": {},
   "source": [
    ">Feature selection was important because we had many columns and preferred to keep our models efficient. I used every trick we knew to select our features:\n",
    "> <li>Delete features with tiny standard deviation (contains the same value)</li>\n",
    "> <li>Delete features with collinear (highly correlated) features - with a threshold above 0.8  </li>\n",
    "> <li>Delete features with a high percentage of missing values (90% and up) </li>\n",
    "> <li>Use forward feature selection (using single or groups of features) </li>\n",
    "\n"
   ]
  },
  {
   "cell_type": "markdown",
   "metadata": {},
   "source": [
    ">First, we will delete features with tiny standard deviation smaller than 0.03"
   ]
  },
  {
   "cell_type": "code",
   "execution_count": 51,
   "metadata": {},
   "outputs": [
    {
     "data": {
      "text/html": [
       "<div>\n",
       "<style scoped>\n",
       "    .dataframe tbody tr th:only-of-type {\n",
       "        vertical-align: middle;\n",
       "    }\n",
       "\n",
       "    .dataframe tbody tr th {\n",
       "        vertical-align: top;\n",
       "    }\n",
       "\n",
       "    .dataframe thead th {\n",
       "        text-align: right;\n",
       "    }\n",
       "</style>\n",
       "<table border=\"1\" class=\"dataframe\">\n",
       "  <thead>\n",
       "    <tr style=\"text-align: right;\">\n",
       "      <th></th>\n",
       "      <th>col1</th>\n",
       "      <th>col2</th>\n",
       "    </tr>\n",
       "  </thead>\n",
       "  <tbody>\n",
       "    <tr>\n",
       "      <th>2</th>\n",
       "      <td>0.006206</td>\n",
       "      <td>CHANNEL1_6M</td>\n",
       "    </tr>\n",
       "    <tr>\n",
       "      <th>3</th>\n",
       "      <td>0.002776</td>\n",
       "      <td>CHANNEL2_6M</td>\n",
       "    </tr>\n",
       "    <tr>\n",
       "      <th>4</th>\n",
       "      <td>0.002776</td>\n",
       "      <td>CHANNEL3_6M</td>\n",
       "    </tr>\n",
       "    <tr>\n",
       "      <th>5</th>\n",
       "      <td>0.002776</td>\n",
       "      <td>CHANNEL4_6M</td>\n",
       "    </tr>\n",
       "    <tr>\n",
       "      <th>6</th>\n",
       "      <td>0.002776</td>\n",
       "      <td>CHANNEL5_6M</td>\n",
       "    </tr>\n",
       "    <tr>\n",
       "      <th>7</th>\n",
       "      <td>0.002776</td>\n",
       "      <td>METHOD1_6M</td>\n",
       "    </tr>\n",
       "    <tr>\n",
       "      <th>9</th>\n",
       "      <td>0.002776</td>\n",
       "      <td>PAYMENTS_6M</td>\n",
       "    </tr>\n",
       "    <tr>\n",
       "      <th>11</th>\n",
       "      <td>0.027652</td>\n",
       "      <td>CHANNEL2_3M</td>\n",
       "    </tr>\n",
       "    <tr>\n",
       "      <th>63</th>\n",
       "      <td>0.027327</td>\n",
       "      <td>RTD_ST_CD_ST_S46</td>\n",
       "    </tr>\n",
       "    <tr>\n",
       "      <th>66</th>\n",
       "      <td>0.026758</td>\n",
       "      <td>RTD_ST_CD_ST_S49</td>\n",
       "    </tr>\n",
       "    <tr>\n",
       "      <th>82</th>\n",
       "      <td>0.000000</td>\n",
       "      <td>other_method_6M</td>\n",
       "    </tr>\n",
       "    <tr>\n",
       "      <th>84</th>\n",
       "      <td>0.007851</td>\n",
       "      <td>method1_minus_channel_6M</td>\n",
       "    </tr>\n",
       "    <tr>\n",
       "      <th>86</th>\n",
       "      <td>0.007851</td>\n",
       "      <td>payments_minus_channel_6M</td>\n",
       "    </tr>\n",
       "  </tbody>\n",
       "</table>\n",
       "</div>"
      ],
      "text/plain": [
       "        col1                       col2\n",
       "2   0.006206                CHANNEL1_6M\n",
       "3   0.002776                CHANNEL2_6M\n",
       "4   0.002776                CHANNEL3_6M\n",
       "5   0.002776                CHANNEL4_6M\n",
       "6   0.002776                CHANNEL5_6M\n",
       "7   0.002776                 METHOD1_6M\n",
       "9   0.002776                PAYMENTS_6M\n",
       "11  0.027652                CHANNEL2_3M\n",
       "63  0.027327           RTD_ST_CD_ST_S46\n",
       "66  0.026758           RTD_ST_CD_ST_S49\n",
       "82  0.000000            other_method_6M\n",
       "84  0.007851   method1_minus_channel_6M\n",
       "86  0.007851  payments_minus_channel_6M"
      ]
     },
     "execution_count": 51,
     "metadata": {},
     "output_type": "execute_result"
    }
   ],
   "source": [
    "cols=finaldata.columns\n",
    "std1=[]\n",
    "name=[]\n",
    "for col in cols:\n",
    "    std1.append(np.std(finaldata[col]))\n",
    "    name.append(col)\n",
    "checkdata=pd.DataFrame(data= {'col1': std1, 'col2': name})\n",
    "checkdata[checkdata.col1<0.003] #vairiables to drop\n",
    "#checkdata\n",
    "\n",
    "#finaldata=finaldata.drop(list(checkdata[checkdata.col1<0.03].col2),axis=1)"
   ]
  },
  {
   "cell_type": "markdown",
   "metadata": {},
   "source": [
    ">In the second step of feature engineering, we will conduct correlation analysis and delete features with dollinear (highly correlated) features with threshold above 0.8"
   ]
  },
  {
   "cell_type": "markdown",
   "metadata": {},
   "source": [
    "```Python\n",
    "corrMatrix = finaldata.corr()\n",
    "corrdata=pd.DataFrame(corrMatrix)\n",
    "corrdata[(corrdata>0.8)&(corrdata<1)]\n",
    "```\n",
    ">In our correlation matrix, we find that:\n",
    "\n",
    "> <li>'NOT_DI_3M' and 'CHANNEL1_3M' has a correlation of 0.826782</li>\n",
    "> <li>'NOT_DI_3M' and 'NOT_DI_6M' has a correlation of 0.823161265</li>\n",
    "> <li>'other_method_3M' and 'other_method_6M' has a correlation of 0.936453863</li>\n",
    "> <li>'method1_minus_channel_6M' and 'method1_minus_channel_3M' has a correlation of 0.961364383</li>\n",
    "> <li>'payments_minus_channel_6M' and 'payments_minus_channel_3M' has a correlation of 0.947199087</li>\n",
    "> <li>'tenure_age_ratio' and 'tenure' has a high correlation</li>\n",
    "\n",
    ">We will delete the following features:\n",
    "'tenure_age_ratio','other_method_3M','method1_minus_channel_3M','payments_minus_channel_3M','NOT_DI_3M'\n",
    "\n",
    "\n"
   ]
  },
  {
   "cell_type": "code",
   "execution_count": 17,
   "metadata": {},
   "outputs": [],
   "source": [
    "finaldata=finaldata.drop(['tenure_age_ratio', 'other_method_3M','method1_minus_channel_3M','payments_minus_channel_3M','NOT_DI_3M'],axis=1)"
   ]
  },
  {
   "cell_type": "markdown",
   "metadata": {},
   "source": [
    ">Great! Having filtered out some features and considering that we don't have features with high percentage of missing values, we can now use forward feature selection.Step forward feature selection starts with the evaluation of each individual feature, and selects that which results in the best performing selected algorithm model. Next, all possible combinations of the that selected feature and a subsequent feature are evaluated, and a second feature is selected, and so on, until the required predefined number of features is selected."
   ]
  },
  {
   "cell_type": "code",
   "execution_count": null,
   "metadata": {},
   "outputs": [],
   "source": [
    "#Step forward feature selection\n",
    "\n",
    "\n",
    "# Build RF classifier to use in feature selection\n",
    "clf = RandomForestClassifier(n_estimators=100, n_jobs=-1)\n",
    "\n",
    "# Build step forward feature selection\n",
    "# Build step forward feature selection\n",
    "sfs1 = sfs(clf,\n",
    "           k_features=15,\n",
    "           forward=True,\n",
    "           floating=False,\n",
    "           verbose=2,\n",
    "           scoring='roc_auc',\n",
    "           cv=3)\n",
    "\n",
    "# Perform SFFS\n",
    "\n",
    "\n",
    "X=finaldata.drop(['Call_Flag'],axis=1)\n",
    "y=finaldata.loc[:,['Call_Flag']]\n",
    "\n",
    "X_train, X_test, y_train, y_test= train_test_split(X,y, test_size=0.2, random_state=123)\n",
    "# Perform SFFS\n",
    "sfs1 = sfs1.fit(X_train, y_train)"
   ]
  },
  {
   "cell_type": "code",
   "execution_count": 109,
   "metadata": {},
   "outputs": [
    {
     "name": "stdout",
     "output_type": "stream",
     "text": [
      "[4, 5, 6, 8, 9, 13, 14, 16, 21, 46, 61, 65, 81, 84, 85]\n"
     ]
    },
    {
     "data": {
      "text/plain": [
       "Index(['CHANNEL3_6M', 'CHANNEL4_6M', 'CHANNEL5_6M', 'RECENT_PAYMENT',\n",
       "       'PAYMENTS_6M', 'CHANNEL4_3M', 'CHANNEL5_3M', 'PAYMENTS_3M',\n",
       "       'POLICYPURCHASECHANNEL', 'RTD_ST_CD_ST_S30', 'RTD_ST_CD_ST_S44',\n",
       "       'RTD_ST_CD_ST_S48', 'other_method_3M', 'method1_minus_channel_6M',\n",
       "       'payments_minus_channel_3M'],\n",
       "      dtype='object')"
      ]
     },
     "execution_count": 109,
     "metadata": {},
     "output_type": "execute_result"
    }
   ],
   "source": [
    "feat_cols = list(sfs1.k_feature_idx_)\n",
    "print(feat_cols)\n",
    "featuredata=finaldata.iloc[:,feat_cols]\n",
    "featuredata.columns"
   ]
  },
  {
   "cell_type": "markdown",
   "metadata": {},
   "source": [
    "### XGBoost"
   ]
  },
  {
   "cell_type": "markdown",
   "metadata": {},
   "source": [
    ">XGBoost is considered the crown jewel of the decision-tree-based ensemble ML algorithms. XGBoost improves upon Gradient Boosting Machines through systems optimization and algorithmic enhancements.\n",
    "\n",
    ">We will use XGBoost for this classification problem because it's more efficient than other classification models. However, we need to notice that the target variable is severely imbalanced, which will result in poor performance of XGBoost. Hence, we will first tune the hyperparameters of the XGBoost algorithm. After we get the best hyperparameters, we will pipeline XGBoost with Synthetic Minority Oversampling Technique to fix the imbalanced issue.\n",
    "\n",
    ">Firstly we will use Grid Search to tune the n_estimators and learning_rate hyperparameters in XGBoost. The learning rate is significant for XGBoost because if we can't set an appropriate learning rate, the loss function of XGBoost might not converge. The n_estimators represent the tree size. It will cause an overfit or underfit problem if we fail to tune them."
   ]
  },
  {
   "cell_type": "code",
   "execution_count": 59,
   "metadata": {},
   "outputs": [
    {
     "name": "stderr",
     "output_type": "stream",
     "text": [
      "C:\\Users\\Administrator\\AppData\\Roaming\\Python\\Python37\\site-packages\\sklearn\\utils\\validation.py:72: DataConversionWarning:\n",
      "\n",
      "A column-vector y was passed when a 1d array was expected. Please change the shape of y to (n_samples, ), for example using ravel().\n",
      "\n"
     ]
    },
    {
     "name": "stdout",
     "output_type": "stream",
     "text": [
      "Best: 0.822820 using {'learning_rate': 0.1, 'n_estimators': 200}\n",
      "0.768749 (0.010421) with: {'learning_rate': 0.0001, 'n_estimators': 100}\n",
      "0.768769 (0.010439) with: {'learning_rate': 0.0001, 'n_estimators': 200}\n",
      "0.769586 (0.011089) with: {'learning_rate': 0.0001, 'n_estimators': 300}\n",
      "0.769586 (0.011089) with: {'learning_rate': 0.0001, 'n_estimators': 400}\n",
      "0.773617 (0.012273) with: {'learning_rate': 0.0001, 'n_estimators': 500}\n",
      "0.779285 (0.010050) with: {'learning_rate': 0.001, 'n_estimators': 100}\n",
      "0.780424 (0.011101) with: {'learning_rate': 0.001, 'n_estimators': 200}\n",
      "0.782329 (0.009715) with: {'learning_rate': 0.001, 'n_estimators': 300}\n",
      "0.782345 (0.009732) with: {'learning_rate': 0.001, 'n_estimators': 400}\n",
      "0.782892 (0.009845) with: {'learning_rate': 0.001, 'n_estimators': 500}\n",
      "0.792683 (0.009806) with: {'learning_rate': 0.01, 'n_estimators': 100}\n",
      "0.798823 (0.011787) with: {'learning_rate': 0.01, 'n_estimators': 200}\n",
      "0.805876 (0.009222) with: {'learning_rate': 0.01, 'n_estimators': 300}\n",
      "0.814627 (0.008287) with: {'learning_rate': 0.01, 'n_estimators': 400}\n",
      "0.819104 (0.008217) with: {'learning_rate': 0.01, 'n_estimators': 500}\n",
      "0.821771 (0.008457) with: {'learning_rate': 0.1, 'n_estimators': 100}\n",
      "0.822820 (0.009704) with: {'learning_rate': 0.1, 'n_estimators': 200}\n",
      "0.822619 (0.009975) with: {'learning_rate': 0.1, 'n_estimators': 300}\n",
      "0.822661 (0.010095) with: {'learning_rate': 0.1, 'n_estimators': 400}\n",
      "0.822493 (0.010046) with: {'learning_rate': 0.1, 'n_estimators': 500}\n"
     ]
    }
   ],
   "source": [
    "\n",
    "# load data\n",
    "X=featuredata\n",
    "# encode string class values as integers\n",
    "label_encoded_y = LabelEncoder().fit_transform(y)\n",
    "# grid search\n",
    "model = XGBClassifier()\n",
    "n_estimators = [100, 200, 300, 400, 500]\n",
    "learning_rate = [0.0001, 0.001, 0.01, 0.1]\n",
    "param_grid = dict(learning_rate=learning_rate, n_estimators=n_estimators)\n",
    "kfold = StratifiedKFold(n_splits=10, shuffle=True, random_state=7)\n",
    "grid_search = GridSearchCV(model, param_grid, scoring='roc_auc', n_jobs=-1, cv=kfold)\n",
    "grid_result = grid_search.fit(X, label_encoded_y)\n",
    "# summarize results\n",
    "print(\"Best: %f using %s\" % (grid_result.best_score_, grid_result.best_params_))\n",
    "means = grid_result.cv_results_['mean_test_score']\n",
    "stds = grid_result.cv_results_['std_test_score']\n",
    "params = grid_result.cv_results_['params']\n",
    "for mean, stdev, param in zip(means, stds, params):\n",
    "\tprint(\"%f (%f) with: %r\" % (mean, stdev, param))\n",
    "\n"
   ]
  },
  {
   "cell_type": "markdown",
   "metadata": {},
   "source": [
    ">The best learning_rate is 0.1 and the best n_estimators is 200. We will tune other hyperparameters in the next step"
   ]
  },
  {
   "cell_type": "code",
   "execution_count": 64,
   "metadata": {},
   "outputs": [
    {
     "name": "stderr",
     "output_type": "stream",
     "text": [
      "C:\\Users\\Administrator\\AppData\\Roaming\\Python\\Python37\\site-packages\\sklearn\\utils\\validation.py:72: DataConversionWarning:\n",
      "\n",
      "A column-vector y was passed when a 1d array was expected. Please change the shape of y to (n_samples, ), for example using ravel().\n",
      "\n",
      "[Parallel(n_jobs=-1)]: Using backend LokyBackend with 4 concurrent workers.\n"
     ]
    },
    {
     "name": "stdout",
     "output_type": "stream",
     "text": [
      "[3, 5, 10]\n",
      "Fitting 5 folds for each of 216 candidates, totalling 1080 fits\n"
     ]
    },
    {
     "name": "stderr",
     "output_type": "stream",
     "text": [
      "[Parallel(n_jobs=-1)]: Done  42 tasks      | elapsed:  1.8min\n",
      "[Parallel(n_jobs=-1)]: Done 192 tasks      | elapsed: 11.1min\n",
      "[Parallel(n_jobs=-1)]: Done 442 tasks      | elapsed: 25.1min\n",
      "[Parallel(n_jobs=-1)]: Done 792 tasks      | elapsed: 49.3min\n",
      "[Parallel(n_jobs=-1)]: Done 1080 out of 1080 | elapsed: 72.6min finished\n"
     ]
    },
    {
     "name": "stdout",
     "output_type": "stream",
     "text": [
      "Best: 0.822997 using {'colsample_bytree': 0.6, 'gamma': 3, 'max_depth': 5, 'min_child_weight': 10, 'scale_pos_weight': 10, 'subsample': 1.0}\n",
      "0.822066 (0.003825) with: {'colsample_bytree': 0.6, 'gamma': 0.5, 'max_depth': 3, 'min_child_weight': 1, 'scale_pos_weight': 10, 'subsample': 0.6}\n",
      "0.821625 (0.003393) with: {'colsample_bytree': 0.6, 'gamma': 0.5, 'max_depth': 3, 'min_child_weight': 1, 'scale_pos_weight': 10, 'subsample': 1.0}\n",
      "0.822312 (0.003716) with: {'colsample_bytree': 0.6, 'gamma': 0.5, 'max_depth': 3, 'min_child_weight': 1, 'scale_pos_weight': 26, 'subsample': 0.6}\n",
      "0.821802 (0.003272) with: {'colsample_bytree': 0.6, 'gamma': 0.5, 'max_depth': 3, 'min_child_weight': 1, 'scale_pos_weight': 26, 'subsample': 1.0}\n",
      "0.822064 (0.003779) with: {'colsample_bytree': 0.6, 'gamma': 0.5, 'max_depth': 3, 'min_child_weight': 5, 'scale_pos_weight': 10, 'subsample': 0.6}\n",
      "0.821657 (0.003522) with: {'colsample_bytree': 0.6, 'gamma': 0.5, 'max_depth': 3, 'min_child_weight': 5, 'scale_pos_weight': 10, 'subsample': 1.0}\n",
      "0.822026 (0.003677) with: {'colsample_bytree': 0.6, 'gamma': 0.5, 'max_depth': 3, 'min_child_weight': 5, 'scale_pos_weight': 26, 'subsample': 0.6}\n",
      "0.821930 (0.003271) with: {'colsample_bytree': 0.6, 'gamma': 0.5, 'max_depth': 3, 'min_child_weight': 5, 'scale_pos_weight': 26, 'subsample': 1.0}\n",
      "0.822058 (0.003767) with: {'colsample_bytree': 0.6, 'gamma': 0.5, 'max_depth': 3, 'min_child_weight': 10, 'scale_pos_weight': 10, 'subsample': 0.6}\n",
      "0.821972 (0.003664) with: {'colsample_bytree': 0.6, 'gamma': 0.5, 'max_depth': 3, 'min_child_weight': 10, 'scale_pos_weight': 10, 'subsample': 1.0}\n",
      "0.822360 (0.003606) with: {'colsample_bytree': 0.6, 'gamma': 0.5, 'max_depth': 3, 'min_child_weight': 10, 'scale_pos_weight': 26, 'subsample': 0.6}\n",
      "0.822270 (0.003420) with: {'colsample_bytree': 0.6, 'gamma': 0.5, 'max_depth': 3, 'min_child_weight': 10, 'scale_pos_weight': 26, 'subsample': 1.0}\n",
      "0.821777 (0.003638) with: {'colsample_bytree': 0.6, 'gamma': 0.5, 'max_depth': 5, 'min_child_weight': 1, 'scale_pos_weight': 10, 'subsample': 0.6}\n",
      "0.821800 (0.003388) with: {'colsample_bytree': 0.6, 'gamma': 0.5, 'max_depth': 5, 'min_child_weight': 1, 'scale_pos_weight': 10, 'subsample': 1.0}\n",
      "0.821514 (0.003511) with: {'colsample_bytree': 0.6, 'gamma': 0.5, 'max_depth': 5, 'min_child_weight': 1, 'scale_pos_weight': 26, 'subsample': 0.6}\n",
      "0.821829 (0.003506) with: {'colsample_bytree': 0.6, 'gamma': 0.5, 'max_depth': 5, 'min_child_weight': 1, 'scale_pos_weight': 26, 'subsample': 1.0}\n",
      "0.822129 (0.003832) with: {'colsample_bytree': 0.6, 'gamma': 0.5, 'max_depth': 5, 'min_child_weight': 5, 'scale_pos_weight': 10, 'subsample': 0.6}\n",
      "0.822472 (0.003811) with: {'colsample_bytree': 0.6, 'gamma': 0.5, 'max_depth': 5, 'min_child_weight': 5, 'scale_pos_weight': 10, 'subsample': 1.0}\n",
      "0.821923 (0.003487) with: {'colsample_bytree': 0.6, 'gamma': 0.5, 'max_depth': 5, 'min_child_weight': 5, 'scale_pos_weight': 26, 'subsample': 0.6}\n",
      "0.822256 (0.003671) with: {'colsample_bytree': 0.6, 'gamma': 0.5, 'max_depth': 5, 'min_child_weight': 5, 'scale_pos_weight': 26, 'subsample': 1.0}\n",
      "0.822420 (0.003807) with: {'colsample_bytree': 0.6, 'gamma': 0.5, 'max_depth': 5, 'min_child_weight': 10, 'scale_pos_weight': 10, 'subsample': 0.6}\n",
      "0.822843 (0.003696) with: {'colsample_bytree': 0.6, 'gamma': 0.5, 'max_depth': 5, 'min_child_weight': 10, 'scale_pos_weight': 10, 'subsample': 1.0}\n",
      "0.822407 (0.003636) with: {'colsample_bytree': 0.6, 'gamma': 0.5, 'max_depth': 5, 'min_child_weight': 10, 'scale_pos_weight': 26, 'subsample': 0.6}\n",
      "0.822637 (0.003719) with: {'colsample_bytree': 0.6, 'gamma': 0.5, 'max_depth': 5, 'min_child_weight': 10, 'scale_pos_weight': 26, 'subsample': 1.0}\n",
      "0.818414 (0.003574) with: {'colsample_bytree': 0.6, 'gamma': 0.5, 'max_depth': 10, 'min_child_weight': 1, 'scale_pos_weight': 10, 'subsample': 0.6}\n",
      "0.817890 (0.003896) with: {'colsample_bytree': 0.6, 'gamma': 0.5, 'max_depth': 10, 'min_child_weight': 1, 'scale_pos_weight': 10, 'subsample': 1.0}\n",
      "0.816473 (0.004118) with: {'colsample_bytree': 0.6, 'gamma': 0.5, 'max_depth': 10, 'min_child_weight': 1, 'scale_pos_weight': 26, 'subsample': 0.6}\n",
      "0.815786 (0.004595) with: {'colsample_bytree': 0.6, 'gamma': 0.5, 'max_depth': 10, 'min_child_weight': 1, 'scale_pos_weight': 26, 'subsample': 1.0}\n",
      "0.820182 (0.003579) with: {'colsample_bytree': 0.6, 'gamma': 0.5, 'max_depth': 10, 'min_child_weight': 5, 'scale_pos_weight': 10, 'subsample': 0.6}\n",
      "0.819631 (0.003609) with: {'colsample_bytree': 0.6, 'gamma': 0.5, 'max_depth': 10, 'min_child_weight': 5, 'scale_pos_weight': 10, 'subsample': 1.0}\n",
      "0.818347 (0.003439) with: {'colsample_bytree': 0.6, 'gamma': 0.5, 'max_depth': 10, 'min_child_weight': 5, 'scale_pos_weight': 26, 'subsample': 0.6}\n",
      "0.817591 (0.004150) with: {'colsample_bytree': 0.6, 'gamma': 0.5, 'max_depth': 10, 'min_child_weight': 5, 'scale_pos_weight': 26, 'subsample': 1.0}\n",
      "0.820740 (0.003849) with: {'colsample_bytree': 0.6, 'gamma': 0.5, 'max_depth': 10, 'min_child_weight': 10, 'scale_pos_weight': 10, 'subsample': 0.6}\n",
      "0.820708 (0.003508) with: {'colsample_bytree': 0.6, 'gamma': 0.5, 'max_depth': 10, 'min_child_weight': 10, 'scale_pos_weight': 10, 'subsample': 1.0}\n",
      "0.819900 (0.004040) with: {'colsample_bytree': 0.6, 'gamma': 0.5, 'max_depth': 10, 'min_child_weight': 10, 'scale_pos_weight': 26, 'subsample': 0.6}\n",
      "0.818906 (0.003615) with: {'colsample_bytree': 0.6, 'gamma': 0.5, 'max_depth': 10, 'min_child_weight': 10, 'scale_pos_weight': 26, 'subsample': 1.0}\n",
      "0.822044 (0.003814) with: {'colsample_bytree': 0.6, 'gamma': 1, 'max_depth': 3, 'min_child_weight': 1, 'scale_pos_weight': 10, 'subsample': 0.6}\n",
      "0.821466 (0.003270) with: {'colsample_bytree': 0.6, 'gamma': 1, 'max_depth': 3, 'min_child_weight': 1, 'scale_pos_weight': 10, 'subsample': 1.0}\n",
      "0.822314 (0.003721) with: {'colsample_bytree': 0.6, 'gamma': 1, 'max_depth': 3, 'min_child_weight': 1, 'scale_pos_weight': 26, 'subsample': 0.6}\n",
      "0.821776 (0.003271) with: {'colsample_bytree': 0.6, 'gamma': 1, 'max_depth': 3, 'min_child_weight': 1, 'scale_pos_weight': 26, 'subsample': 1.0}\n",
      "0.821995 (0.003914) with: {'colsample_bytree': 0.6, 'gamma': 1, 'max_depth': 3, 'min_child_weight': 5, 'scale_pos_weight': 10, 'subsample': 0.6}\n",
      "0.821644 (0.003511) with: {'colsample_bytree': 0.6, 'gamma': 1, 'max_depth': 3, 'min_child_weight': 5, 'scale_pos_weight': 10, 'subsample': 1.0}\n",
      "0.822070 (0.003648) with: {'colsample_bytree': 0.6, 'gamma': 1, 'max_depth': 3, 'min_child_weight': 5, 'scale_pos_weight': 26, 'subsample': 0.6}\n",
      "0.821931 (0.003269) with: {'colsample_bytree': 0.6, 'gamma': 1, 'max_depth': 3, 'min_child_weight': 5, 'scale_pos_weight': 26, 'subsample': 1.0}\n",
      "0.822113 (0.003711) with: {'colsample_bytree': 0.6, 'gamma': 1, 'max_depth': 3, 'min_child_weight': 10, 'scale_pos_weight': 10, 'subsample': 0.6}\n",
      "0.821930 (0.003718) with: {'colsample_bytree': 0.6, 'gamma': 1, 'max_depth': 3, 'min_child_weight': 10, 'scale_pos_weight': 10, 'subsample': 1.0}\n",
      "0.822354 (0.003614) with: {'colsample_bytree': 0.6, 'gamma': 1, 'max_depth': 3, 'min_child_weight': 10, 'scale_pos_weight': 26, 'subsample': 0.6}\n",
      "0.822276 (0.003424) with: {'colsample_bytree': 0.6, 'gamma': 1, 'max_depth': 3, 'min_child_weight': 10, 'scale_pos_weight': 26, 'subsample': 1.0}\n",
      "0.822058 (0.003599) with: {'colsample_bytree': 0.6, 'gamma': 1, 'max_depth': 5, 'min_child_weight': 1, 'scale_pos_weight': 10, 'subsample': 0.6}\n",
      "0.822053 (0.003177) with: {'colsample_bytree': 0.6, 'gamma': 1, 'max_depth': 5, 'min_child_weight': 1, 'scale_pos_weight': 10, 'subsample': 1.0}\n",
      "0.821655 (0.003392) with: {'colsample_bytree': 0.6, 'gamma': 1, 'max_depth': 5, 'min_child_weight': 1, 'scale_pos_weight': 26, 'subsample': 0.6}\n",
      "0.821980 (0.003349) with: {'colsample_bytree': 0.6, 'gamma': 1, 'max_depth': 5, 'min_child_weight': 1, 'scale_pos_weight': 26, 'subsample': 1.0}\n",
      "0.822061 (0.003834) with: {'colsample_bytree': 0.6, 'gamma': 1, 'max_depth': 5, 'min_child_weight': 5, 'scale_pos_weight': 10, 'subsample': 0.6}\n",
      "0.822366 (0.003747) with: {'colsample_bytree': 0.6, 'gamma': 1, 'max_depth': 5, 'min_child_weight': 5, 'scale_pos_weight': 10, 'subsample': 1.0}\n",
      "0.821789 (0.003680) with: {'colsample_bytree': 0.6, 'gamma': 1, 'max_depth': 5, 'min_child_weight': 5, 'scale_pos_weight': 26, 'subsample': 0.6}\n",
      "0.822261 (0.003684) with: {'colsample_bytree': 0.6, 'gamma': 1, 'max_depth': 5, 'min_child_weight': 5, 'scale_pos_weight': 26, 'subsample': 1.0}\n",
      "0.822410 (0.003789) with: {'colsample_bytree': 0.6, 'gamma': 1, 'max_depth': 5, 'min_child_weight': 10, 'scale_pos_weight': 10, 'subsample': 0.6}\n",
      "0.822886 (0.003552) with: {'colsample_bytree': 0.6, 'gamma': 1, 'max_depth': 5, 'min_child_weight': 10, 'scale_pos_weight': 10, 'subsample': 1.0}\n",
      "0.822364 (0.003670) with: {'colsample_bytree': 0.6, 'gamma': 1, 'max_depth': 5, 'min_child_weight': 10, 'scale_pos_weight': 26, 'subsample': 0.6}\n",
      "0.822370 (0.003778) with: {'colsample_bytree': 0.6, 'gamma': 1, 'max_depth': 5, 'min_child_weight': 10, 'scale_pos_weight': 26, 'subsample': 1.0}\n",
      "0.818703 (0.003636) with: {'colsample_bytree': 0.6, 'gamma': 1, 'max_depth': 10, 'min_child_weight': 1, 'scale_pos_weight': 10, 'subsample': 0.6}\n",
      "0.818193 (0.004033) with: {'colsample_bytree': 0.6, 'gamma': 1, 'max_depth': 10, 'min_child_weight': 1, 'scale_pos_weight': 10, 'subsample': 1.0}\n",
      "0.816288 (0.004358) with: {'colsample_bytree': 0.6, 'gamma': 1, 'max_depth': 10, 'min_child_weight': 1, 'scale_pos_weight': 26, 'subsample': 0.6}\n",
      "0.816143 (0.004497) with: {'colsample_bytree': 0.6, 'gamma': 1, 'max_depth': 10, 'min_child_weight': 1, 'scale_pos_weight': 26, 'subsample': 1.0}\n",
      "0.820506 (0.003586) with: {'colsample_bytree': 0.6, 'gamma': 1, 'max_depth': 10, 'min_child_weight': 5, 'scale_pos_weight': 10, 'subsample': 0.6}\n",
      "0.819789 (0.003579) with: {'colsample_bytree': 0.6, 'gamma': 1, 'max_depth': 10, 'min_child_weight': 5, 'scale_pos_weight': 10, 'subsample': 1.0}\n",
      "0.818291 (0.003329) with: {'colsample_bytree': 0.6, 'gamma': 1, 'max_depth': 10, 'min_child_weight': 5, 'scale_pos_weight': 26, 'subsample': 0.6}\n",
      "0.817708 (0.004061) with: {'colsample_bytree': 0.6, 'gamma': 1, 'max_depth': 10, 'min_child_weight': 5, 'scale_pos_weight': 26, 'subsample': 1.0}\n",
      "0.821165 (0.003922) with: {'colsample_bytree': 0.6, 'gamma': 1, 'max_depth': 10, 'min_child_weight': 10, 'scale_pos_weight': 10, 'subsample': 0.6}\n",
      "0.821008 (0.003648) with: {'colsample_bytree': 0.6, 'gamma': 1, 'max_depth': 10, 'min_child_weight': 10, 'scale_pos_weight': 10, 'subsample': 1.0}\n",
      "0.820251 (0.004020) with: {'colsample_bytree': 0.6, 'gamma': 1, 'max_depth': 10, 'min_child_weight': 10, 'scale_pos_weight': 26, 'subsample': 0.6}\n",
      "0.819112 (0.003277) with: {'colsample_bytree': 0.6, 'gamma': 1, 'max_depth': 10, 'min_child_weight': 10, 'scale_pos_weight': 26, 'subsample': 1.0}\n",
      "0.822088 (0.003874) with: {'colsample_bytree': 0.6, 'gamma': 3, 'max_depth': 3, 'min_child_weight': 1, 'scale_pos_weight': 10, 'subsample': 0.6}\n",
      "0.821392 (0.002884) with: {'colsample_bytree': 0.6, 'gamma': 3, 'max_depth': 3, 'min_child_weight': 1, 'scale_pos_weight': 10, 'subsample': 1.0}\n",
      "0.822268 (0.003741) with: {'colsample_bytree': 0.6, 'gamma': 3, 'max_depth': 3, 'min_child_weight': 1, 'scale_pos_weight': 26, 'subsample': 0.6}\n",
      "0.821645 (0.003359) with: {'colsample_bytree': 0.6, 'gamma': 3, 'max_depth': 3, 'min_child_weight': 1, 'scale_pos_weight': 26, 'subsample': 1.0}\n",
      "0.821870 (0.003825) with: {'colsample_bytree': 0.6, 'gamma': 3, 'max_depth': 3, 'min_child_weight': 5, 'scale_pos_weight': 10, 'subsample': 0.6}\n",
      "0.821950 (0.003146) with: {'colsample_bytree': 0.6, 'gamma': 3, 'max_depth': 3, 'min_child_weight': 5, 'scale_pos_weight': 10, 'subsample': 1.0}\n",
      "0.821923 (0.003645) with: {'colsample_bytree': 0.6, 'gamma': 3, 'max_depth': 3, 'min_child_weight': 5, 'scale_pos_weight': 26, 'subsample': 0.6}\n",
      "0.821822 (0.003314) with: {'colsample_bytree': 0.6, 'gamma': 3, 'max_depth': 3, 'min_child_weight': 5, 'scale_pos_weight': 26, 'subsample': 1.0}\n",
      "0.822213 (0.003644) with: {'colsample_bytree': 0.6, 'gamma': 3, 'max_depth': 3, 'min_child_weight': 10, 'scale_pos_weight': 10, 'subsample': 0.6}\n",
      "0.821979 (0.003565) with: {'colsample_bytree': 0.6, 'gamma': 3, 'max_depth': 3, 'min_child_weight': 10, 'scale_pos_weight': 10, 'subsample': 1.0}\n",
      "0.822223 (0.003493) with: {'colsample_bytree': 0.6, 'gamma': 3, 'max_depth': 3, 'min_child_weight': 10, 'scale_pos_weight': 26, 'subsample': 0.6}\n",
      "0.822029 (0.003419) with: {'colsample_bytree': 0.6, 'gamma': 3, 'max_depth': 3, 'min_child_weight': 10, 'scale_pos_weight': 26, 'subsample': 1.0}\n",
      "0.821723 (0.003706) with: {'colsample_bytree': 0.6, 'gamma': 3, 'max_depth': 5, 'min_child_weight': 1, 'scale_pos_weight': 10, 'subsample': 0.6}\n",
      "0.822099 (0.003214) with: {'colsample_bytree': 0.6, 'gamma': 3, 'max_depth': 5, 'min_child_weight': 1, 'scale_pos_weight': 10, 'subsample': 1.0}\n",
      "0.821460 (0.003509) with: {'colsample_bytree': 0.6, 'gamma': 3, 'max_depth': 5, 'min_child_weight': 1, 'scale_pos_weight': 26, 'subsample': 0.6}\n",
      "0.821868 (0.003637) with: {'colsample_bytree': 0.6, 'gamma': 3, 'max_depth': 5, 'min_child_weight': 1, 'scale_pos_weight': 26, 'subsample': 1.0}\n",
      "0.822228 (0.003741) with: {'colsample_bytree': 0.6, 'gamma': 3, 'max_depth': 5, 'min_child_weight': 5, 'scale_pos_weight': 10, 'subsample': 0.6}\n",
      "0.822763 (0.003554) with: {'colsample_bytree': 0.6, 'gamma': 3, 'max_depth': 5, 'min_child_weight': 5, 'scale_pos_weight': 10, 'subsample': 1.0}\n",
      "0.821946 (0.003477) with: {'colsample_bytree': 0.6, 'gamma': 3, 'max_depth': 5, 'min_child_weight': 5, 'scale_pos_weight': 26, 'subsample': 0.6}\n",
      "0.822366 (0.003621) with: {'colsample_bytree': 0.6, 'gamma': 3, 'max_depth': 5, 'min_child_weight': 5, 'scale_pos_weight': 26, 'subsample': 1.0}\n",
      "0.822297 (0.003951) with: {'colsample_bytree': 0.6, 'gamma': 3, 'max_depth': 5, 'min_child_weight': 10, 'scale_pos_weight': 10, 'subsample': 0.6}\n",
      "0.822997 (0.003673) with: {'colsample_bytree': 0.6, 'gamma': 3, 'max_depth': 5, 'min_child_weight': 10, 'scale_pos_weight': 10, 'subsample': 1.0}\n",
      "0.822387 (0.003629) with: {'colsample_bytree': 0.6, 'gamma': 3, 'max_depth': 5, 'min_child_weight': 10, 'scale_pos_weight': 26, 'subsample': 0.6}\n",
      "0.822580 (0.003785) with: {'colsample_bytree': 0.6, 'gamma': 3, 'max_depth': 5, 'min_child_weight': 10, 'scale_pos_weight': 26, 'subsample': 1.0}\n",
      "0.819122 (0.003272) with: {'colsample_bytree': 0.6, 'gamma': 3, 'max_depth': 10, 'min_child_weight': 1, 'scale_pos_weight': 10, 'subsample': 0.6}\n",
      "0.819617 (0.003420) with: {'colsample_bytree': 0.6, 'gamma': 3, 'max_depth': 10, 'min_child_weight': 1, 'scale_pos_weight': 10, 'subsample': 1.0}\n",
      "0.816776 (0.004215) with: {'colsample_bytree': 0.6, 'gamma': 3, 'max_depth': 10, 'min_child_weight': 1, 'scale_pos_weight': 26, 'subsample': 0.6}\n",
      "0.816696 (0.004495) with: {'colsample_bytree': 0.6, 'gamma': 3, 'max_depth': 10, 'min_child_weight': 1, 'scale_pos_weight': 26, 'subsample': 1.0}\n",
      "0.820675 (0.003476) with: {'colsample_bytree': 0.6, 'gamma': 3, 'max_depth': 10, 'min_child_weight': 5, 'scale_pos_weight': 10, 'subsample': 0.6}\n",
      "0.821039 (0.003229) with: {'colsample_bytree': 0.6, 'gamma': 3, 'max_depth': 10, 'min_child_weight': 5, 'scale_pos_weight': 10, 'subsample': 1.0}\n",
      "0.818568 (0.003345) with: {'colsample_bytree': 0.6, 'gamma': 3, 'max_depth': 10, 'min_child_weight': 5, 'scale_pos_weight': 26, 'subsample': 0.6}\n",
      "0.818521 (0.003821) with: {'colsample_bytree': 0.6, 'gamma': 3, 'max_depth': 10, 'min_child_weight': 5, 'scale_pos_weight': 26, 'subsample': 1.0}\n",
      "0.821156 (0.003896) with: {'colsample_bytree': 0.6, 'gamma': 3, 'max_depth': 10, 'min_child_weight': 10, 'scale_pos_weight': 10, 'subsample': 0.6}\n",
      "0.821650 (0.003486) with: {'colsample_bytree': 0.6, 'gamma': 3, 'max_depth': 10, 'min_child_weight': 10, 'scale_pos_weight': 10, 'subsample': 1.0}\n",
      "0.820045 (0.003742) with: {'colsample_bytree': 0.6, 'gamma': 3, 'max_depth': 10, 'min_child_weight': 10, 'scale_pos_weight': 26, 'subsample': 0.6}\n",
      "0.819525 (0.003343) with: {'colsample_bytree': 0.6, 'gamma': 3, 'max_depth': 10, 'min_child_weight': 10, 'scale_pos_weight': 26, 'subsample': 1.0}\n",
      "0.821805 (0.003755) with: {'colsample_bytree': 1.0, 'gamma': 0.5, 'max_depth': 3, 'min_child_weight': 1, 'scale_pos_weight': 10, 'subsample': 0.6}\n",
      "0.821861 (0.003089) with: {'colsample_bytree': 1.0, 'gamma': 0.5, 'max_depth': 3, 'min_child_weight': 1, 'scale_pos_weight': 10, 'subsample': 1.0}\n",
      "0.822098 (0.003635) with: {'colsample_bytree': 1.0, 'gamma': 0.5, 'max_depth': 3, 'min_child_weight': 1, 'scale_pos_weight': 26, 'subsample': 0.6}\n",
      "0.821713 (0.003353) with: {'colsample_bytree': 1.0, 'gamma': 0.5, 'max_depth': 3, 'min_child_weight': 1, 'scale_pos_weight': 26, 'subsample': 1.0}\n",
      "0.822067 (0.003868) with: {'colsample_bytree': 1.0, 'gamma': 0.5, 'max_depth': 3, 'min_child_weight': 5, 'scale_pos_weight': 10, 'subsample': 0.6}\n",
      "0.821898 (0.003478) with: {'colsample_bytree': 1.0, 'gamma': 0.5, 'max_depth': 3, 'min_child_weight': 5, 'scale_pos_weight': 10, 'subsample': 1.0}\n",
      "0.821967 (0.003380) with: {'colsample_bytree': 1.0, 'gamma': 0.5, 'max_depth': 3, 'min_child_weight': 5, 'scale_pos_weight': 26, 'subsample': 0.6}\n",
      "0.822027 (0.003384) with: {'colsample_bytree': 1.0, 'gamma': 0.5, 'max_depth': 3, 'min_child_weight': 5, 'scale_pos_weight': 26, 'subsample': 1.0}\n",
      "0.822258 (0.003736) with: {'colsample_bytree': 1.0, 'gamma': 0.5, 'max_depth': 3, 'min_child_weight': 10, 'scale_pos_weight': 10, 'subsample': 0.6}\n",
      "0.822133 (0.003466) with: {'colsample_bytree': 1.0, 'gamma': 0.5, 'max_depth': 3, 'min_child_weight': 10, 'scale_pos_weight': 10, 'subsample': 1.0}\n",
      "0.821956 (0.003700) with: {'colsample_bytree': 1.0, 'gamma': 0.5, 'max_depth': 3, 'min_child_weight': 10, 'scale_pos_weight': 26, 'subsample': 0.6}\n",
      "0.822479 (0.003352) with: {'colsample_bytree': 1.0, 'gamma': 0.5, 'max_depth': 3, 'min_child_weight': 10, 'scale_pos_weight': 26, 'subsample': 1.0}\n",
      "0.821715 (0.004279) with: {'colsample_bytree': 1.0, 'gamma': 0.5, 'max_depth': 5, 'min_child_weight': 1, 'scale_pos_weight': 10, 'subsample': 0.6}\n",
      "0.821689 (0.003814) with: {'colsample_bytree': 1.0, 'gamma': 0.5, 'max_depth': 5, 'min_child_weight': 1, 'scale_pos_weight': 10, 'subsample': 1.0}\n",
      "0.821196 (0.004167) with: {'colsample_bytree': 1.0, 'gamma': 0.5, 'max_depth': 5, 'min_child_weight': 1, 'scale_pos_weight': 26, 'subsample': 0.6}\n",
      "0.820739 (0.004430) with: {'colsample_bytree': 1.0, 'gamma': 0.5, 'max_depth': 5, 'min_child_weight': 1, 'scale_pos_weight': 26, 'subsample': 1.0}\n",
      "0.822092 (0.004295) with: {'colsample_bytree': 1.0, 'gamma': 0.5, 'max_depth': 5, 'min_child_weight': 5, 'scale_pos_weight': 10, 'subsample': 0.6}\n",
      "0.822638 (0.004213) with: {'colsample_bytree': 1.0, 'gamma': 0.5, 'max_depth': 5, 'min_child_weight': 5, 'scale_pos_weight': 10, 'subsample': 1.0}\n",
      "0.821233 (0.003988) with: {'colsample_bytree': 1.0, 'gamma': 0.5, 'max_depth': 5, 'min_child_weight': 5, 'scale_pos_weight': 26, 'subsample': 0.6}\n",
      "0.821460 (0.003701) with: {'colsample_bytree': 1.0, 'gamma': 0.5, 'max_depth': 5, 'min_child_weight': 5, 'scale_pos_weight': 26, 'subsample': 1.0}\n",
      "0.822095 (0.004346) with: {'colsample_bytree': 1.0, 'gamma': 0.5, 'max_depth': 5, 'min_child_weight': 10, 'scale_pos_weight': 10, 'subsample': 0.6}\n",
      "0.822573 (0.003876) with: {'colsample_bytree': 1.0, 'gamma': 0.5, 'max_depth': 5, 'min_child_weight': 10, 'scale_pos_weight': 10, 'subsample': 1.0}\n",
      "0.821926 (0.004406) with: {'colsample_bytree': 1.0, 'gamma': 0.5, 'max_depth': 5, 'min_child_weight': 10, 'scale_pos_weight': 26, 'subsample': 0.6}\n",
      "0.821529 (0.003573) with: {'colsample_bytree': 1.0, 'gamma': 0.5, 'max_depth': 5, 'min_child_weight': 10, 'scale_pos_weight': 26, 'subsample': 1.0}\n",
      "0.812607 (0.003848) with: {'colsample_bytree': 1.0, 'gamma': 0.5, 'max_depth': 10, 'min_child_weight': 1, 'scale_pos_weight': 10, 'subsample': 0.6}\n",
      "0.814103 (0.004716) with: {'colsample_bytree': 1.0, 'gamma': 0.5, 'max_depth': 10, 'min_child_weight': 1, 'scale_pos_weight': 10, 'subsample': 1.0}\n",
      "0.809823 (0.004982) with: {'colsample_bytree': 1.0, 'gamma': 0.5, 'max_depth': 10, 'min_child_weight': 1, 'scale_pos_weight': 26, 'subsample': 0.6}\n",
      "0.811488 (0.005660) with: {'colsample_bytree': 1.0, 'gamma': 0.5, 'max_depth': 10, 'min_child_weight': 1, 'scale_pos_weight': 26, 'subsample': 1.0}\n",
      "0.816732 (0.003092) with: {'colsample_bytree': 1.0, 'gamma': 0.5, 'max_depth': 10, 'min_child_weight': 5, 'scale_pos_weight': 10, 'subsample': 0.6}\n",
      "0.816703 (0.003720) with: {'colsample_bytree': 1.0, 'gamma': 0.5, 'max_depth': 10, 'min_child_weight': 5, 'scale_pos_weight': 10, 'subsample': 1.0}\n",
      "0.813829 (0.003347) with: {'colsample_bytree': 1.0, 'gamma': 0.5, 'max_depth': 10, 'min_child_weight': 5, 'scale_pos_weight': 26, 'subsample': 0.6}\n",
      "0.814510 (0.004209) with: {'colsample_bytree': 1.0, 'gamma': 0.5, 'max_depth': 10, 'min_child_weight': 5, 'scale_pos_weight': 26, 'subsample': 1.0}\n",
      "0.817951 (0.003091) with: {'colsample_bytree': 1.0, 'gamma': 0.5, 'max_depth': 10, 'min_child_weight': 10, 'scale_pos_weight': 10, 'subsample': 0.6}\n",
      "0.818635 (0.003749) with: {'colsample_bytree': 1.0, 'gamma': 0.5, 'max_depth': 10, 'min_child_weight': 10, 'scale_pos_weight': 10, 'subsample': 1.0}\n",
      "0.815906 (0.002918) with: {'colsample_bytree': 1.0, 'gamma': 0.5, 'max_depth': 10, 'min_child_weight': 10, 'scale_pos_weight': 26, 'subsample': 0.6}\n",
      "0.816705 (0.004237) with: {'colsample_bytree': 1.0, 'gamma': 0.5, 'max_depth': 10, 'min_child_weight': 10, 'scale_pos_weight': 26, 'subsample': 1.0}\n",
      "0.821835 (0.003745) with: {'colsample_bytree': 1.0, 'gamma': 1, 'max_depth': 3, 'min_child_weight': 1, 'scale_pos_weight': 10, 'subsample': 0.6}\n",
      "0.821863 (0.003086) with: {'colsample_bytree': 1.0, 'gamma': 1, 'max_depth': 3, 'min_child_weight': 1, 'scale_pos_weight': 10, 'subsample': 1.0}\n",
      "0.822095 (0.003637) with: {'colsample_bytree': 1.0, 'gamma': 1, 'max_depth': 3, 'min_child_weight': 1, 'scale_pos_weight': 26, 'subsample': 0.6}\n",
      "0.821839 (0.003485) with: {'colsample_bytree': 1.0, 'gamma': 1, 'max_depth': 3, 'min_child_weight': 1, 'scale_pos_weight': 26, 'subsample': 1.0}\n",
      "0.822016 (0.003788) with: {'colsample_bytree': 1.0, 'gamma': 1, 'max_depth': 3, 'min_child_weight': 5, 'scale_pos_weight': 10, 'subsample': 0.6}\n",
      "0.821984 (0.003475) with: {'colsample_bytree': 1.0, 'gamma': 1, 'max_depth': 3, 'min_child_weight': 5, 'scale_pos_weight': 10, 'subsample': 1.0}\n",
      "0.821967 (0.003380) with: {'colsample_bytree': 1.0, 'gamma': 1, 'max_depth': 3, 'min_child_weight': 5, 'scale_pos_weight': 26, 'subsample': 0.6}\n",
      "0.822027 (0.003384) with: {'colsample_bytree': 1.0, 'gamma': 1, 'max_depth': 3, 'min_child_weight': 5, 'scale_pos_weight': 26, 'subsample': 1.0}\n",
      "0.822189 (0.003700) with: {'colsample_bytree': 1.0, 'gamma': 1, 'max_depth': 3, 'min_child_weight': 10, 'scale_pos_weight': 10, 'subsample': 0.6}\n",
      "0.822223 (0.003594) with: {'colsample_bytree': 1.0, 'gamma': 1, 'max_depth': 3, 'min_child_weight': 10, 'scale_pos_weight': 10, 'subsample': 1.0}\n",
      "0.821956 (0.003700) with: {'colsample_bytree': 1.0, 'gamma': 1, 'max_depth': 3, 'min_child_weight': 10, 'scale_pos_weight': 26, 'subsample': 0.6}\n",
      "0.822486 (0.003354) with: {'colsample_bytree': 1.0, 'gamma': 1, 'max_depth': 3, 'min_child_weight': 10, 'scale_pos_weight': 26, 'subsample': 1.0}\n",
      "0.821672 (0.004407) with: {'colsample_bytree': 1.0, 'gamma': 1, 'max_depth': 5, 'min_child_weight': 1, 'scale_pos_weight': 10, 'subsample': 0.6}\n",
      "0.821623 (0.003787) with: {'colsample_bytree': 1.0, 'gamma': 1, 'max_depth': 5, 'min_child_weight': 1, 'scale_pos_weight': 10, 'subsample': 1.0}\n",
      "0.821124 (0.004357) with: {'colsample_bytree': 1.0, 'gamma': 1, 'max_depth': 5, 'min_child_weight': 1, 'scale_pos_weight': 26, 'subsample': 0.6}\n",
      "0.820835 (0.004772) with: {'colsample_bytree': 1.0, 'gamma': 1, 'max_depth': 5, 'min_child_weight': 1, 'scale_pos_weight': 26, 'subsample': 1.0}\n",
      "0.822049 (0.004241) with: {'colsample_bytree': 1.0, 'gamma': 1, 'max_depth': 5, 'min_child_weight': 5, 'scale_pos_weight': 10, 'subsample': 0.6}\n",
      "0.822396 (0.003775) with: {'colsample_bytree': 1.0, 'gamma': 1, 'max_depth': 5, 'min_child_weight': 5, 'scale_pos_weight': 10, 'subsample': 1.0}\n",
      "0.821204 (0.004249) with: {'colsample_bytree': 1.0, 'gamma': 1, 'max_depth': 5, 'min_child_weight': 5, 'scale_pos_weight': 26, 'subsample': 0.6}\n",
      "0.821495 (0.004077) with: {'colsample_bytree': 1.0, 'gamma': 1, 'max_depth': 5, 'min_child_weight': 5, 'scale_pos_weight': 26, 'subsample': 1.0}\n",
      "0.822152 (0.004383) with: {'colsample_bytree': 1.0, 'gamma': 1, 'max_depth': 5, 'min_child_weight': 10, 'scale_pos_weight': 10, 'subsample': 0.6}\n",
      "0.822426 (0.003470) with: {'colsample_bytree': 1.0, 'gamma': 1, 'max_depth': 5, 'min_child_weight': 10, 'scale_pos_weight': 10, 'subsample': 1.0}\n",
      "0.822030 (0.004273) with: {'colsample_bytree': 1.0, 'gamma': 1, 'max_depth': 5, 'min_child_weight': 10, 'scale_pos_weight': 26, 'subsample': 0.6}\n",
      "0.821728 (0.003789) with: {'colsample_bytree': 1.0, 'gamma': 1, 'max_depth': 5, 'min_child_weight': 10, 'scale_pos_weight': 26, 'subsample': 1.0}\n",
      "0.812356 (0.004066) with: {'colsample_bytree': 1.0, 'gamma': 1, 'max_depth': 10, 'min_child_weight': 1, 'scale_pos_weight': 10, 'subsample': 0.6}\n",
      "0.814908 (0.004781) with: {'colsample_bytree': 1.0, 'gamma': 1, 'max_depth': 10, 'min_child_weight': 1, 'scale_pos_weight': 10, 'subsample': 1.0}\n",
      "0.809789 (0.004826) with: {'colsample_bytree': 1.0, 'gamma': 1, 'max_depth': 10, 'min_child_weight': 1, 'scale_pos_weight': 26, 'subsample': 0.6}\n",
      "0.811551 (0.005758) with: {'colsample_bytree': 1.0, 'gamma': 1, 'max_depth': 10, 'min_child_weight': 1, 'scale_pos_weight': 26, 'subsample': 1.0}\n",
      "0.816631 (0.003255) with: {'colsample_bytree': 1.0, 'gamma': 1, 'max_depth': 10, 'min_child_weight': 5, 'scale_pos_weight': 10, 'subsample': 0.6}\n",
      "0.817028 (0.003758) with: {'colsample_bytree': 1.0, 'gamma': 1, 'max_depth': 10, 'min_child_weight': 5, 'scale_pos_weight': 10, 'subsample': 1.0}\n",
      "0.813732 (0.003227) with: {'colsample_bytree': 1.0, 'gamma': 1, 'max_depth': 10, 'min_child_weight': 5, 'scale_pos_weight': 26, 'subsample': 0.6}\n",
      "0.814161 (0.004250) with: {'colsample_bytree': 1.0, 'gamma': 1, 'max_depth': 10, 'min_child_weight': 5, 'scale_pos_weight': 26, 'subsample': 1.0}\n",
      "0.818064 (0.002987) with: {'colsample_bytree': 1.0, 'gamma': 1, 'max_depth': 10, 'min_child_weight': 10, 'scale_pos_weight': 10, 'subsample': 0.6}\n",
      "0.818937 (0.003556) with: {'colsample_bytree': 1.0, 'gamma': 1, 'max_depth': 10, 'min_child_weight': 10, 'scale_pos_weight': 10, 'subsample': 1.0}\n",
      "0.816169 (0.003086) with: {'colsample_bytree': 1.0, 'gamma': 1, 'max_depth': 10, 'min_child_weight': 10, 'scale_pos_weight': 26, 'subsample': 0.6}\n",
      "0.816608 (0.004105) with: {'colsample_bytree': 1.0, 'gamma': 1, 'max_depth': 10, 'min_child_weight': 10, 'scale_pos_weight': 26, 'subsample': 1.0}\n",
      "0.821884 (0.003798) with: {'colsample_bytree': 1.0, 'gamma': 3, 'max_depth': 3, 'min_child_weight': 1, 'scale_pos_weight': 10, 'subsample': 0.6}\n",
      "0.821839 (0.003231) with: {'colsample_bytree': 1.0, 'gamma': 3, 'max_depth': 3, 'min_child_weight': 1, 'scale_pos_weight': 10, 'subsample': 1.0}\n",
      "0.822080 (0.003631) with: {'colsample_bytree': 1.0, 'gamma': 3, 'max_depth': 3, 'min_child_weight': 1, 'scale_pos_weight': 26, 'subsample': 0.6}\n",
      "0.821918 (0.003427) with: {'colsample_bytree': 1.0, 'gamma': 3, 'max_depth': 3, 'min_child_weight': 1, 'scale_pos_weight': 26, 'subsample': 1.0}\n",
      "0.822094 (0.003765) with: {'colsample_bytree': 1.0, 'gamma': 3, 'max_depth': 3, 'min_child_weight': 5, 'scale_pos_weight': 10, 'subsample': 0.6}\n",
      "0.822026 (0.003558) with: {'colsample_bytree': 1.0, 'gamma': 3, 'max_depth': 3, 'min_child_weight': 5, 'scale_pos_weight': 10, 'subsample': 1.0}\n",
      "0.822059 (0.003453) with: {'colsample_bytree': 1.0, 'gamma': 3, 'max_depth': 3, 'min_child_weight': 5, 'scale_pos_weight': 26, 'subsample': 0.6}\n",
      "0.822034 (0.003372) with: {'colsample_bytree': 1.0, 'gamma': 3, 'max_depth': 3, 'min_child_weight': 5, 'scale_pos_weight': 26, 'subsample': 1.0}\n",
      "0.822040 (0.003732) with: {'colsample_bytree': 1.0, 'gamma': 3, 'max_depth': 3, 'min_child_weight': 10, 'scale_pos_weight': 10, 'subsample': 0.6}\n",
      "0.822198 (0.003468) with: {'colsample_bytree': 1.0, 'gamma': 3, 'max_depth': 3, 'min_child_weight': 10, 'scale_pos_weight': 10, 'subsample': 1.0}\n",
      "0.821929 (0.003657) with: {'colsample_bytree': 1.0, 'gamma': 3, 'max_depth': 3, 'min_child_weight': 10, 'scale_pos_weight': 26, 'subsample': 0.6}\n",
      "0.822404 (0.003349) with: {'colsample_bytree': 1.0, 'gamma': 3, 'max_depth': 3, 'min_child_weight': 10, 'scale_pos_weight': 26, 'subsample': 1.0}\n",
      "0.821842 (0.004448) with: {'colsample_bytree': 1.0, 'gamma': 3, 'max_depth': 5, 'min_child_weight': 1, 'scale_pos_weight': 10, 'subsample': 0.6}\n",
      "0.821942 (0.003806) with: {'colsample_bytree': 1.0, 'gamma': 3, 'max_depth': 5, 'min_child_weight': 1, 'scale_pos_weight': 10, 'subsample': 1.0}\n",
      "0.821250 (0.004087) with: {'colsample_bytree': 1.0, 'gamma': 3, 'max_depth': 5, 'min_child_weight': 1, 'scale_pos_weight': 26, 'subsample': 0.6}\n",
      "0.821454 (0.003988) with: {'colsample_bytree': 1.0, 'gamma': 3, 'max_depth': 5, 'min_child_weight': 1, 'scale_pos_weight': 26, 'subsample': 1.0}\n",
      "0.821815 (0.004317) with: {'colsample_bytree': 1.0, 'gamma': 3, 'max_depth': 5, 'min_child_weight': 5, 'scale_pos_weight': 10, 'subsample': 0.6}\n",
      "0.822940 (0.004222) with: {'colsample_bytree': 1.0, 'gamma': 3, 'max_depth': 5, 'min_child_weight': 5, 'scale_pos_weight': 10, 'subsample': 1.0}\n",
      "0.821482 (0.004473) with: {'colsample_bytree': 1.0, 'gamma': 3, 'max_depth': 5, 'min_child_weight': 5, 'scale_pos_weight': 26, 'subsample': 0.6}\n",
      "0.821367 (0.003772) with: {'colsample_bytree': 1.0, 'gamma': 3, 'max_depth': 5, 'min_child_weight': 5, 'scale_pos_weight': 26, 'subsample': 1.0}\n",
      "0.822214 (0.004556) with: {'colsample_bytree': 1.0, 'gamma': 3, 'max_depth': 5, 'min_child_weight': 10, 'scale_pos_weight': 10, 'subsample': 0.6}\n",
      "0.822918 (0.003735) with: {'colsample_bytree': 1.0, 'gamma': 3, 'max_depth': 5, 'min_child_weight': 10, 'scale_pos_weight': 10, 'subsample': 1.0}\n",
      "0.821846 (0.004101) with: {'colsample_bytree': 1.0, 'gamma': 3, 'max_depth': 5, 'min_child_weight': 10, 'scale_pos_weight': 26, 'subsample': 0.6}\n",
      "0.821738 (0.003885) with: {'colsample_bytree': 1.0, 'gamma': 3, 'max_depth': 5, 'min_child_weight': 10, 'scale_pos_weight': 26, 'subsample': 1.0}\n",
      "0.813726 (0.003942) with: {'colsample_bytree': 1.0, 'gamma': 3, 'max_depth': 10, 'min_child_weight': 1, 'scale_pos_weight': 10, 'subsample': 0.6}\n",
      "0.817740 (0.003580) with: {'colsample_bytree': 1.0, 'gamma': 3, 'max_depth': 10, 'min_child_weight': 1, 'scale_pos_weight': 10, 'subsample': 1.0}\n",
      "0.810241 (0.004913) with: {'colsample_bytree': 1.0, 'gamma': 3, 'max_depth': 10, 'min_child_weight': 1, 'scale_pos_weight': 26, 'subsample': 0.6}\n",
      "0.813741 (0.005586) with: {'colsample_bytree': 1.0, 'gamma': 3, 'max_depth': 10, 'min_child_weight': 1, 'scale_pos_weight': 26, 'subsample': 1.0}\n",
      "0.817121 (0.003129) with: {'colsample_bytree': 1.0, 'gamma': 3, 'max_depth': 10, 'min_child_weight': 5, 'scale_pos_weight': 10, 'subsample': 0.6}\n",
      "0.818711 (0.003257) with: {'colsample_bytree': 1.0, 'gamma': 3, 'max_depth': 10, 'min_child_weight': 5, 'scale_pos_weight': 10, 'subsample': 1.0}\n",
      "0.814131 (0.002694) with: {'colsample_bytree': 1.0, 'gamma': 3, 'max_depth': 10, 'min_child_weight': 5, 'scale_pos_weight': 26, 'subsample': 0.6}\n",
      "0.815123 (0.004203) with: {'colsample_bytree': 1.0, 'gamma': 3, 'max_depth': 10, 'min_child_weight': 5, 'scale_pos_weight': 26, 'subsample': 1.0}\n",
      "0.818474 (0.003312) with: {'colsample_bytree': 1.0, 'gamma': 3, 'max_depth': 10, 'min_child_weight': 10, 'scale_pos_weight': 10, 'subsample': 0.6}\n",
      "0.820040 (0.003851) with: {'colsample_bytree': 1.0, 'gamma': 3, 'max_depth': 10, 'min_child_weight': 10, 'scale_pos_weight': 10, 'subsample': 1.0}\n",
      "0.816579 (0.003430) with: {'colsample_bytree': 1.0, 'gamma': 3, 'max_depth': 10, 'min_child_weight': 10, 'scale_pos_weight': 26, 'subsample': 0.6}\n",
      "0.817508 (0.003898) with: {'colsample_bytree': 1.0, 'gamma': 3, 'max_depth': 10, 'min_child_weight': 10, 'scale_pos_weight': 26, 'subsample': 1.0}\n"
     ]
    }
   ],
   "source": [
    "\n",
    "# load data\n",
    "X=featuredata\n",
    "# encode string class values as integers\n",
    "label_encoded_y = LabelEncoder().fit_transform(y)\n",
    "# grid search\n",
    "model = XGBClassifier(objective='binary:logistic',n_estimators=100,learning_rate=0.1)\n",
    "\n",
    "min_child_weight=[1, 5, 10]\n",
    "gamma=[0.5, 1, 3]\n",
    "subsample=[0.6,  1.0]\n",
    "colsample_bytree=[0.6, 1.0]\n",
    "max_depth=[3, 5,10]\n",
    "scale_pos_weight=[10,26]\n",
    "\n",
    "print(max_depth)\n",
    "param_grid = dic\n",
    "t(scale_pos_weight=scale_pos_weight,min_child_weight=min_child_weight,max_depth=max_depth, gamma=gamma,subsample=subsample,colsample_bytree=colsample_bytree)\n",
    "kfold = StratifiedKFold(n_splits=5, shuffle=True, random_state=7)\n",
    "grid_search = GridSearchCV(model, param_grid, scoring='roc_auc', n_jobs=-1, cv=kfold, verbose=1)\n",
    "grid_result = grid_search.fit(X, label_encoded_y)\n",
    "# summarize results\n",
    "print(\"Best: %f using %s\" % (grid_result.best_score_, grid_result.best_params_))\n",
    "means = grid_result.cv_results_['mean_test_score']\n",
    "stds = grid_result.cv_results_['std_test_score']\n",
    "params = grid_result.cv_results_['params']\n",
    "for mean, stdev, param in zip(means, stds, params):\n",
    "    print(\"%f (%f) with: %r\" % (mean, stdev, param))\n"
   ]
  },
  {
   "cell_type": "markdown",
   "metadata": {},
   "source": [
    ">The tuned parameters are:'colsample_bytree': 0.6;'gamma': 3; 'max_depth': 5; 'min_child_weight': 10;'scale_pos_weight': 10;'subsample': 1.0"
   ]
  },
  {
   "cell_type": "markdown",
   "metadata": {},
   "source": [
    "### XGBoost Baseline"
   ]
  },
  {
   "cell_type": "code",
   "execution_count": 107,
   "metadata": {},
   "outputs": [
    {
     "name": "stderr",
     "output_type": "stream",
     "text": [
      "C:\\Users\\Administrator\\AppData\\Roaming\\Python\\Python37\\site-packages\\sklearn\\utils\\validation.py:72: DataConversionWarning:\n",
      "\n",
      "A column-vector y was passed when a 1d array was expected. Please change the shape of y to (n_samples, ), for example using ravel().\n",
      "\n"
     ]
    },
    {
     "name": "stdout",
     "output_type": "stream",
     "text": [
      "Test set accuracy: 0.75\n",
      "AUC: 0.8263325830324032\n"
     ]
    },
    {
     "name": "stderr",
     "output_type": "stream",
     "text": [
      "C:\\Users\\Administrator\\AppData\\Roaming\\Python\\Python37\\site-packages\\sklearn\\utils\\validation.py:72: DataConversionWarning:\n",
      "\n",
      "A column-vector y was passed when a 1d array was expected. Please change the shape of y to (n_samples, ), for example using ravel().\n",
      "\n",
      "C:\\Users\\Administrator\\AppData\\Roaming\\Python\\Python37\\site-packages\\sklearn\\utils\\validation.py:72: DataConversionWarning:\n",
      "\n",
      "A column-vector y was passed when a 1d array was expected. Please change the shape of y to (n_samples, ), for example using ravel().\n",
      "\n",
      "C:\\Users\\Administrator\\AppData\\Roaming\\Python\\Python37\\site-packages\\sklearn\\utils\\validation.py:72: DataConversionWarning:\n",
      "\n",
      "A column-vector y was passed when a 1d array was expected. Please change the shape of y to (n_samples, ), for example using ravel().\n",
      "\n"
     ]
    },
    {
     "name": "stdout",
     "output_type": "stream",
     "text": [
      "AUC scores computed using 5-fold cross-validation: 0.8293724232176146\n"
     ]
    }
   ],
   "source": [
    "X=featuredata\n",
    "#X=finaldata.drop(['Call_Flag'],axis=1)\n",
    "y=finaldata.loc[:,['Call_Flag']]\n",
    "\n",
    "#baseline\n",
    "X_train, X_test, y_train, y_test= train_test_split(X,y, test_size=0.2, random_state=123)\n",
    "model=xgb.XGBClassifier(base_score=0.5, booster='gbtree', colsample_bylevel=1,\n",
    "              colsample_bynode=1, colsample_bytree=0.6, gamma=3,eval_metric='auc',\n",
    "              learning_rate=0.1, max_delta_step=0, max_depth=5,\n",
    "              min_child_weight=10, missing=-1, n_estimators=100, n_jobs=1,\n",
    "              nthread=None, objective='binary:logistic', random_state=0,\n",
    "              reg_alpha=0, reg_lambda=1, scale_pos_weight=26, seed=123,\n",
    "              silent=None, subsample=1, verbosity=1)\n",
    "\n",
    "model.fit(X_train,y_train)\n",
    "preds=model.predict(X_test)\n",
    "acc = accuracy_score(y_test,preds)\n",
    "print(\"Test set accuracy: {:.2f}\".format(acc))\n",
    "y_pred_prob = model.predict_proba(X_test)[:,1]\n",
    "# Compute and print AUC score\n",
    "print(\"AUC: {}\".format(roc_auc_score(y_test, y_pred_prob)))\n",
    "\n",
    "cv_auc = cross_val_score(model,X,y,cv=3,scoring=\"roc_auc\")\n",
    "# Print list of AUC scores\n",
    "print(\"AUC scores computed using 5-fold cross-validation: {}\".format(np.mean(cv_auc)))\n",
    "#AUC scores computed using 5-fold cross-validation: 83%, accuracy 75%"
   ]
  },
  {
   "cell_type": "code",
   "execution_count": 111,
   "metadata": {},
   "outputs": [
    {
     "name": "stdout",
     "output_type": "stream",
     "text": [
      "Confusion matrix, without normalization\n",
      "[[18704  6331]\n",
      " [  231   694]]\n"
     ]
    },
    {
     "data": {
      "image/png": "[encoded data removed]",
      "text/plain": [
       "<Figure size 432x288 with 2 Axes>"
      ]
     },
     "metadata": {
      "needs_background": "light"
     },
     "output_type": "display_data"
    }
   ],
   "source": [
    "\n",
    "cnf_matrix=confusion_matrix(y_test, preds)\n",
    "plt.figure()\n",
    "plot_confusion_matrix(cnf_matrix, classes=['not default','default'], normalize=False,\n",
    "                      title='Confusion matrix of XGBoostClassifier')\n",
    "\n",
    "plt.show()\n",
    "\n"
   ]
  },
  {
   "cell_type": "markdown",
   "metadata": {},
   "source": [
    "### Synthetic Minority Oversampling Technique(SMOTE-XGboost)"
   ]
  },
  {
   "cell_type": "markdown",
   "metadata": {},
   "source": [
    ">A problem with imbalanced classification is that there are too few examples of the minority class for a model to effectively learn the decision boundary.\n",
    "\n",
    ">One way to solve this problem is to oversample the examples in the minority class. This can be achieved by simply duplicating examples from the minority class in the training dataset prior to fitting a model. This can balance the class distribution but does not provide any additional information to the model.An improvement on duplicating examples from the minority class is to synthesize new examples from the minority class. This is a type of data augmentation for tabular data and can be very effective.\n",
    "\n",
    ">Synthetic Minority Oversampling Technique (SMOTE) is the perfect solution here.SMOTE works by selecting examples that are close in the feature space, drawing a line between the examples in the feature space and drawing a new sample at a point along that line. SMOTE first selects a minority class instance a at random and finds its k nearest minority class neighbors. The synthetic instance is then created by choosing one of the k nearest neighbors b at random and connecting a and b to form a line segment in the feature space. The synthetic instances are generated as a convex combination of the two chosen instances a and b."
   ]
  },
  {
   "cell_type": "code",
   "execution_count": 143,
   "metadata": {},
   "outputs": [
    {
     "name": "stdout",
     "output_type": "stream",
     "text": [
      "> k=1, Mean ROC AUC: 0.847\n"
     ]
    }
   ],
   "source": [
    "\n",
    "# grid search k value for SMOTE oversampling for imbalanced classification\n",
    "\n",
    "# define dataset\n",
    "#featuredata=finaldata.loc[:,['CHANNEL3_3M','CHANNEL4_3M','CHANNEL5_3M','PAYMENTS_3M','method1_minus_channel_6M']]\n",
    "X=finaldata.drop(['Call_Flag'],axis=1)\n",
    "#X=featuredata\n",
    "y=finaldata.loc[:,['Call_Flag']]\n",
    "# values to evaluate\n",
    "\n",
    "# define pipeline\n",
    "k_values = [1]\n",
    "for k in k_values:\n",
    "    # define pipeline\n",
    "    model = xgb.XGBClassifier(base_score=0.5, booster='gbtree', colsample_bylevel=1,\n",
    "              colsample_bynode=1, colsample_bytree=0.6, gamma=3,eval_metric='auc',\n",
    "              learning_rate=0.1, max_delta_step=0, max_depth=5,\n",
    "              min_child_weight=10, missing=-1, n_estimators=100, n_jobs=1,\n",
    "              nthread=None, objective='binary:logistic', random_state=0,\n",
    "              reg_alpha=0, reg_lambda=1, scale_pos_weight=26, seed=123,\n",
    "              silent=None, subsample=1, verbosity=1)\n",
    "    \n",
    "    over = SMOTE(sampling_strategy=0.1, k_neighbors=k)\n",
    "    under = RandomUnderSampler(sampling_strategy=0.5)\n",
    "    steps = [('over', over), ('under', under), ('model', model)]\n",
    "    pipeline = Pipeline(steps=steps)\n",
    "    # evaluate pipeline\n",
    "    cv = RepeatedStratifiedKFold(n_splits=10, n_repeats=3, random_state=1)\n",
    "    scores = cross_val_score(pipeline, X, y, scoring='roc_auc', cv=cv, n_jobs=-1)\n",
    "    score = mean(scores)\n",
    "    print('> k=%d, Mean ROC AUC: %.3f' % (k, score))\n",
    "\n",
    "    #0.822\n",
    "    #0.854"
   ]
  },
  {
   "cell_type": "code",
   "execution_count": 151,
   "metadata": {},
   "outputs": [
    {
     "name": "stdout",
     "output_type": "stream",
     "text": [
      "[0.85983496 0.8401811  0.84560957 0.84626068 0.83435416 0.84438482\n",
      " 0.84872243 0.85115143 0.83967817 0.85570259 0.83828418 0.84508347\n",
      " 0.84193955 0.84543562 0.85128962 0.85117332 0.84888277 0.8512362\n",
      " 0.84783852 0.84599836 0.85901599 0.8421373  0.83618958 0.83883103\n",
      " 0.8478616  0.84643204 0.84581514 0.85388952 0.84878654 0.85182857]\n"
     ]
    }
   ],
   "source": [
    "print(scores)"
   ]
  },
  {
   "cell_type": "markdown",
   "metadata": {},
   "source": [
    ">The SMOTE-XGBoost model performs well to address the business problem. For this imbalanced customer classification problem, the SMOTE-XGBoost performs better than the basic well-tuned XGBoost model in terms of the AUC score. It has an AUC score of 0.85, which is suitable for classification tasks. With this model, I can successfully predict the likelihood that each policyholder will make a service payment call with high accuracy(XGBoost) and a high AUC score(SMOTE-XGBoost). We adopt the SMOTE-XGBoost model for our tasks because it has a high AUC score, which is the most critical metric for classification problems."
   ]
  },
  {
   "cell_type": "markdown",
   "metadata": {},
   "source": [
    "### Data Visualization"
   ]
  },
  {
   "cell_type": "markdown",
   "metadata": {},
   "source": [
    ">In data visualization part, we will plot confusion matrix, AUC-ROC curve and the feature importance ranking. It will give us an understanding of the black-box model."
   ]
  },
  {
   "cell_type": "code",
   "execution_count": 86,
   "metadata": {},
   "outputs": [
    {
     "name": "stdout",
     "output_type": "stream",
     "text": [
      "Confusion matrix, without normalization\n",
      "[[18926  6109]\n",
      " [  220   705]]\n"
     ]
    },
    {
     "data": {
      "image/png": "[encoded data removed]",
      "text/plain": [
       "<Figure size 432x288 with 2 Axes>"
      ]
     },
     "metadata": {
      "needs_background": "light"
     },
     "output_type": "display_data"
    },
    {
     "name": "stdout",
     "output_type": "stream",
     "text": [
      "[0.69096214 0.6523424  0.08040375 ... 0.93185496 0.6633463  0.04075559]\n"
     ]
    },
    {
     "data": {
      "text/plain": [
       "<AxesSubplot:title={'center':'Features importance (XGBoost)'}, xlabel='F score', ylabel='Features'>"
      ]
     },
     "execution_count": 86,
     "metadata": {},
     "output_type": "execute_result"
    },
    {
     "data": {
      "image/png": "[encoded data removed]",
      "text/plain": [
       "<Figure size 432x288 with 1 Axes>"
      ]
     },
     "metadata": {
      "needs_background": "light"
     },
     "output_type": "display_data"
    }
   ],
   "source": [
    "def plot_confusion_matrix(cm, classes,\n",
    "                          normalize=False,\n",
    "                          title='Confusion matrix',\n",
    "                          cmap=plt.cm.Blues):\n",
    "    \"\"\"\n",
    "    This function prints and plots the confusion matrix.\n",
    "    Normalization can be applied by setting `normalize=True`.\n",
    "    \"\"\"\n",
    "    plt.imshow(cm, interpolation='nearest', cmap=cmap,origin='lower')\n",
    "    plt.title(title)\n",
    "    plt.colorbar()\n",
    "    tick_marks = np.arange(len(classes))\n",
    "    plt.xticks(tick_marks, classes, rotation=45)\n",
    "    plt.yticks(tick_marks, classes)\n",
    "\n",
    "    if normalize:\n",
    "        cm = cm.astype('float') / cm.sum(axis=1)[:, np.newaxis]\n",
    "        print(\"Normalized confusion matrix\")\n",
    "    else:\n",
    "        print('Confusion matrix, without normalization')\n",
    "\n",
    "    print(cm)\n",
    "\n",
    "    thresh = cm.max() / 2.\n",
    "    for i, j in itertools.product(range(cm.shape[0]), range(cm.shape[1])):\n",
    "        plt.text(j, i+0.1, cm[i, j],\n",
    "                               color= \"black\")\n",
    "\n",
    "    plt.tight_layout()\n",
    "    plt.ylabel('True label')\n",
    "    plt.xlabel('Predicted label')\n",
    "    \n",
    "X=featuredata\n",
    "#X=finaldata.drop(['Call_Flag'],axis=1)\n",
    "y=finaldata.loc[:,['Call_Flag']]\n",
    "\n",
    "#baseline\n",
    "X_train, X_test, y_train, y_test= train_test_split(X,y, test_size=0.2, random_state=123)\n",
    "model=xgb.XGBClassifier(base_score=0.5, booster='gbtree', colsample_bylevel=1,\n",
    "              colsample_bynode=1, colsample_bytree=0.6, gamma=3,eval_metric='auc',\n",
    "              learning_rate=0.1, max_delta_step=0, max_depth=5,\n",
    "              min_child_weight=10, missing=-1, n_estimators=100, n_jobs=1,\n",
    "              nthread=None, objective='binary:logistic', random_state=0,\n",
    "              reg_alpha=0, reg_lambda=1, scale_pos_weight=26, seed=123,\n",
    "              silent=None, subsample=1, verbosity=1)\n",
    "\n",
    "model.fit(X_train,y_train)\n",
    "preds=model.predict(X_test)\n",
    "# Plot normalized confusion matrix\n",
    "cnf_matrix=confusion_matrix(y_test, preds)\n",
    "plt.figure()\n",
    "plot_confusion_matrix(cnf_matrix, classes=['not default','default'], normalize=False,\n",
    "                      title='Confusion matrix of XGBoostClassifier')\n",
    "\n",
    "plt.show()\n",
    "\n",
    "\n",
    "\n",
    "y_pred_prob = model.predict_proba(X_test)[:,1]\n",
    "print(y_pred_prob)\n",
    "\n",
    "# Generate ROC curve values: \n",
    "fpr2, tpr2, thresholds = roc_curve(y_test,y_pred_prob )\n",
    "\n",
    "\n",
    "xgb.plot_importance(model, height=3.8, title=\"Features importance (XGBoost)\",  color=\"purple\") \n"
   ]
  },
  {
   "cell_type": "code",
   "execution_count": 83,
   "metadata": {},
   "outputs": [
    {
     "data": {
      "image/png": "[encoded data removed]",
      "text/plain": [
       "<Figure size 432x288 with 1 Axes>"
      ]
     },
     "metadata": {
      "needs_background": "light"
     },
     "output_type": "display_data"
    }
   ],
   "source": [
    "# Plot ROC curve\n",
    "plt.plot([0, 1], [0, 1], 'k--')\n",
    "\n",
    "plt.plot(fpr2, tpr2,label=\"XGBoost\")\n",
    "\n",
    "plt.legend(loc='upper left')\n",
    "plt.xlabel('False Positive Rate')\n",
    "plt.ylabel('True Positive Rate')\n",
    "plt.title('ROC Curve of Classifiers')\n",
    "plt.show()"
   ]
  },
  {
   "cell_type": "code",
   "execution_count": 154,
   "metadata": {},
   "outputs": [
    {
     "name": "stderr",
     "output_type": "stream",
     "text": [
      "C:\\Users\\Administrator\\AppData\\Roaming\\Python\\Python37\\site-packages\\sklearn\\utils\\validation.py:72: DataConversionWarning:\n",
      "\n",
      "A column-vector y was passed when a 1d array was expected. Please change the shape of y to (n_samples, ), for example using ravel().\n",
      "\n"
     ]
    },
    {
     "name": "stdout",
     "output_type": "stream",
     "text": [
      "['CHANNEL4_3M', 'payments_minus_channel_3M', 'CHANNEL5_3M', 'PAYMENTS_3M', 'other_method_3M']\n"
     ]
    },
    {
     "data": {
      "image/png": "[encoded data removed]",
      "text/plain": [
       "<Figure size 720x288 with 1 Axes>"
      ]
     },
     "metadata": {
      "needs_background": "light"
     },
     "output_type": "display_data"
    }
   ],
   "source": [
    "X=featuredata\n",
    "#X=finaldata.drop(['Call_Flag'],axis=1)\n",
    "y=finaldata.loc[:,['Call_Flag']]\n",
    "\n",
    "#baseline\n",
    "X_train, X_test, y_train, y_test= train_test_split(X,y, test_size=0.2, random_state=123)\n",
    "model=xgb.XGBClassifier(base_score=0.5, booster='gbtree', colsample_bylevel=1,\n",
    "              colsample_bynode=1, colsample_bytree=0.6, gamma=3,eval_metric='auc',\n",
    "              learning_rate=0.1, max_delta_step=0, max_depth=5,\n",
    "              min_child_weight=10, missing=-1, n_estimators=100, n_jobs=1,\n",
    "              nthread=None, objective='binary:logistic', random_state=0,\n",
    "              reg_alpha=0, reg_lambda=1, scale_pos_weight=26, seed=123,\n",
    "              silent=None, subsample=1, verbosity=1)\n",
    "\n",
    "model.fit(X_train,y_train)\n",
    "preds=model.predict(X_test)\n",
    "impo=model.feature_importances_\n",
    "\n",
    "tmp = pd.DataFrame({'Feature': X.columns, 'Feature_importance': impo})\n",
    "tmp = tmp.sort_values(by='Feature_importance',ascending=False)\n",
    "tmp=tmp.iloc[:5,:]\n",
    "print(list(tmp.Feature))\n",
    "plt.figure(figsize = (10,4))\n",
    "plt.title('Features importance of XGBoost Classifier',fontsize=14)\n",
    "s = sns.barplot('Feature','Feature_importance',data=tmp)"
   ]
  },
  {
   "cell_type": "code",
   "execution_count": 167,
   "metadata": {},
   "outputs": [
    {
     "data": {
      "application/vnd.plotly.v1+json": {
       "config": {
        "plotlyServerURL": "https://plot.ly"
       },
       "data": [
        {
         "alignmentgroup": "True",
         "customdata": [
          [
           "CHANNEL4_3M"
          ]
         ],
         "hoverlabel": {
          "namelength": 0
         },
         "hovertemplate": "feature=%{customdata[0]}<br>x=%{x}<br>y=%{y}",
         "legendgroup": "feature=CHANNEL4_3M",
         "marker": {
          "color": "#636efa"
         },
         "name": "feature=CHANNEL4_3M",
         "offsetgroup": "feature=CHANNEL4_3M",
         "orientation": "v",
         "showlegend": true,
         "textposition": "auto",
         "type": "bar",
         "x": [
          "CHANNEL4_3M"
         ],
         "xaxis": "x",
         "y": [
          0.37909072637557983
         ],
         "yaxis": "y"
        },
        {
         "alignmentgroup": "True",
         "customdata": [
          [
           "payments_minus_channel_3M"
          ]
         ],
         "hoverlabel": {
          "namelength": 0
         },
         "hovertemplate": "feature=%{customdata[0]}<br>x=%{x}<br>y=%{y}",
         "legendgroup": "feature=payments_minus_channel_3M",
         "marker": {
          "color": "#EF553B"
         },
         "name": "feature=payments_minus_channel_3M",
         "offsetgroup": "feature=payments_minus_channel_3M",
         "orientation": "v",
         "showlegend": true,
         "textposition": "auto",
         "type": "bar",
         "x": [
          "payments_minus_channel_3M"
         ],
         "xaxis": "x",
         "y": [
          0.2087991088628769
         ],
         "yaxis": "y"
        },
        {
         "alignmentgroup": "True",
         "customdata": [
          [
           "CHANNEL5_3M"
          ]
         ],
         "hoverlabel": {
          "namelength": 0
         },
         "hovertemplate": "feature=%{customdata[0]}<br>x=%{x}<br>y=%{y}",
         "legendgroup": "feature=CHANNEL5_3M",
         "marker": {
          "color": "#00cc96"
         },
         "name": "feature=CHANNEL5_3M",
         "offsetgroup": "feature=CHANNEL5_3M",
         "orientation": "v",
         "showlegend": true,
         "textposition": "auto",
         "type": "bar",
         "x": [
          "CHANNEL5_3M"
         ],
         "xaxis": "x",
         "y": [
          0.1400829702615738
         ],
         "yaxis": "y"
        },
        {
         "alignmentgroup": "True",
         "customdata": [
          [
           "PAYMENTS_3M"
          ]
         ],
         "hoverlabel": {
          "namelength": 0
         },
         "hovertemplate": "feature=%{customdata[0]}<br>x=%{x}<br>y=%{y}",
         "legendgroup": "feature=PAYMENTS_3M",
         "marker": {
          "color": "#ab63fa"
         },
         "name": "feature=PAYMENTS_3M",
         "offsetgroup": "feature=PAYMENTS_3M",
         "orientation": "v",
         "showlegend": true,
         "textposition": "auto",
         "type": "bar",
         "x": [
          "PAYMENTS_3M"
         ],
         "xaxis": "x",
         "y": [
          0.09117792546749115
         ],
         "yaxis": "y"
        },
        {
         "alignmentgroup": "True",
         "customdata": [
          [
           "other_method_3M"
          ]
         ],
         "hoverlabel": {
          "namelength": 0
         },
         "hovertemplate": "feature=%{customdata[0]}<br>x=%{x}<br>y=%{y}",
         "legendgroup": "feature=other_method_3M",
         "marker": {
          "color": "#FFA15A"
         },
         "name": "feature=other_method_3M",
         "offsetgroup": "feature=other_method_3M",
         "orientation": "v",
         "showlegend": true,
         "textposition": "auto",
         "type": "bar",
         "x": [
          "other_method_3M"
         ],
         "xaxis": "x",
         "y": [
          0.059796638786792755
         ],
         "yaxis": "y"
        }
       ],
       "layout": {
        "barmode": "relative",
        "height": 400,
        "legend": {
         "tracegroupgap": 0
        },
        "template": {
         "data": {
          "bar": [
           {
            "error_x": {
             "color": "#2a3f5f"
            },
            "error_y": {
             "color": "#2a3f5f"
            },
            "marker": {
             "line": {
              "color": "#E5ECF6",
              "width": 0.5
             }
            },
            "type": "bar"
           }
          ],
          "barpolar": [
           {
            "marker": {
             "line": {
              "color": "#E5ECF6",
              "width": 0.5
             }
            },
            "type": "barpolar"
           }
          ],
          "carpet": [
           {
            "aaxis": {
             "endlinecolor": "#2a3f5f",
             "gridcolor": "white",
             "linecolor": "white",
             "minorgridcolor": "white",
             "startlinecolor": "#2a3f5f"
            },
            "baxis": {
             "endlinecolor": "#2a3f5f",
             "gridcolor": "white",
             "linecolor": "white",
             "minorgridcolor": "white",
             "startlinecolor": "#2a3f5f"
            },
            "type": "carpet"
           }
          ],
          "choropleth": [
           {
            "colorbar": {
             "outlinewidth": 0,
             "ticks": ""
            },
            "type": "choropleth"
           }
          ],
          "contour": [
           {
            "colorbar": {
             "outlinewidth": 0,
             "ticks": ""
            },
            "colorscale": [
             [
              0,
              "#0d0887"
             ],
             [
              0.1111111111111111,
              "#46039f"
             ],
             [
              0.2222222222222222,
              "#7201a8"
             ],
             [
              0.3333333333333333,
              "#9c179e"
             ],
             [
              0.4444444444444444,
              "#bd3786"
             ],
             [
              0.5555555555555556,
              "#d8576b"
             ],
             [
              0.6666666666666666,
              "#ed7953"
             ],
             [
              0.7777777777777778,
              "#fb9f3a"
             ],
             [
              0.8888888888888888,
              "#fdca26"
             ],
             [
              1,
              "#f0f921"
             ]
            ],
            "type": "contour"
           }
          ],
          "contourcarpet": [
           {
            "colorbar": {
             "outlinewidth": 0,
             "ticks": ""
            },
            "type": "contourcarpet"
           }
          ],
          "heatmap": [
           {
            "colorbar": {
             "outlinewidth": 0,
             "ticks": ""
            },
            "colorscale": [
             [
              0,
              "#0d0887"
             ],
             [
              0.1111111111111111,
              "#46039f"
             ],
             [
              0.2222222222222222,
              "#7201a8"
             ],
             [
              0.3333333333333333,
              "#9c179e"
             ],
             [
              0.4444444444444444,
              "#bd3786"
             ],
             [
              0.5555555555555556,
              "#d8576b"
             ],
             [
              0.6666666666666666,
              "#ed7953"
             ],
             [
              0.7777777777777778,
              "#fb9f3a"
             ],
             [
              0.8888888888888888,
              "#fdca26"
             ],
             [
              1,
              "#f0f921"
             ]
            ],
            "type": "heatmap"
           }
          ],
          "heatmapgl": [
           {
            "colorbar": {
             "outlinewidth": 0,
             "ticks": ""
            },
            "colorscale": [
             [
              0,
              "#0d0887"
             ],
             [
              0.1111111111111111,
              "#46039f"
             ],
             [
              0.2222222222222222,
              "#7201a8"
             ],
             [
              0.3333333333333333,
              "#9c179e"
             ],
             [
              0.4444444444444444,
              "#bd3786"
             ],
             [
              0.5555555555555556,
              "#d8576b"
             ],
             [
              0.6666666666666666,
              "#ed7953"
             ],
             [
              0.7777777777777778,
              "#fb9f3a"
             ],
             [
              0.8888888888888888,
              "#fdca26"
             ],
             [
              1,
              "#f0f921"
             ]
            ],
            "type": "heatmapgl"
           }
          ],
          "histogram": [
           {
            "marker": {
             "colorbar": {
              "outlinewidth": 0,
              "ticks": ""
             }
            },
            "type": "histogram"
           }
          ],
          "histogram2d": [
           {
            "colorbar": {
             "outlinewidth": 0,
             "ticks": ""
            },
            "colorscale": [
             [
              0,
              "#0d0887"
             ],
             [
              0.1111111111111111,
              "#46039f"
             ],
             [
              0.2222222222222222,
              "#7201a8"
             ],
             [
              0.3333333333333333,
              "#9c179e"
             ],
             [
              0.4444444444444444,
              "#bd3786"
             ],
             [
              0.5555555555555556,
              "#d8576b"
             ],
             [
              0.6666666666666666,
              "#ed7953"
             ],
             [
              0.7777777777777778,
              "#fb9f3a"
             ],
             [
              0.8888888888888888,
              "#fdca26"
             ],
             [
              1,
              "#f0f921"
             ]
            ],
            "type": "histogram2d"
           }
          ],
          "histogram2dcontour": [
           {
            "colorbar": {
             "outlinewidth": 0,
             "ticks": ""
            },
            "colorscale": [
             [
              0,
              "#0d0887"
             ],
             [
              0.1111111111111111,
              "#46039f"
             ],
             [
              0.2222222222222222,
              "#7201a8"
             ],
             [
              0.3333333333333333,
              "#9c179e"
             ],
             [
              0.4444444444444444,
              "#bd3786"
             ],
             [
              0.5555555555555556,
              "#d8576b"
             ],
             [
              0.6666666666666666,
              "#ed7953"
             ],
             [
              0.7777777777777778,
              "#fb9f3a"
             ],
             [
              0.8888888888888888,
              "#fdca26"
             ],
             [
              1,
              "#f0f921"
             ]
            ],
            "type": "histogram2dcontour"
           }
          ],
          "mesh3d": [
           {
            "colorbar": {
             "outlinewidth": 0,
             "ticks": ""
            },
            "type": "mesh3d"
           }
          ],
          "parcoords": [
           {
            "line": {
             "colorbar": {
              "outlinewidth": 0,
              "ticks": ""
             }
            },
            "type": "parcoords"
           }
          ],
          "pie": [
           {
            "automargin": true,
            "type": "pie"
           }
          ],
          "scatter": [
           {
            "marker": {
             "colorbar": {
              "outlinewidth": 0,
              "ticks": ""
             }
            },
            "type": "scatter"
           }
          ],
          "scatter3d": [
           {
            "line": {
             "colorbar": {
              "outlinewidth": 0,
              "ticks": ""
             }
            },
            "marker": {
             "colorbar": {
              "outlinewidth": 0,
              "ticks": ""
             }
            },
            "type": "scatter3d"
           }
          ],
          "scattercarpet": [
           {
            "marker": {
             "colorbar": {
              "outlinewidth": 0,
              "ticks": ""
             }
            },
            "type": "scattercarpet"
           }
          ],
          "scattergeo": [
           {
            "marker": {
             "colorbar": {
              "outlinewidth": 0,
              "ticks": ""
             }
            },
            "type": "scattergeo"
           }
          ],
          "scattergl": [
           {
            "marker": {
             "colorbar": {
              "outlinewidth": 0,
              "ticks": ""
             }
            },
            "type": "scattergl"
           }
          ],
          "scattermapbox": [
           {
            "marker": {
             "colorbar": {
              "outlinewidth": 0,
              "ticks": ""
             }
            },
            "type": "scattermapbox"
           }
          ],
          "scatterpolar": [
           {
            "marker": {
             "colorbar": {
              "outlinewidth": 0,
              "ticks": ""
             }
            },
            "type": "scatterpolar"
           }
          ],
          "scatterpolargl": [
           {
            "marker": {
             "colorbar": {
              "outlinewidth": 0,
              "ticks": ""
             }
            },
            "type": "scatterpolargl"
           }
          ],
          "scatterternary": [
           {
            "marker": {
             "colorbar": {
              "outlinewidth": 0,
              "ticks": ""
             }
            },
            "type": "scatterternary"
           }
          ],
          "surface": [
           {
            "colorbar": {
             "outlinewidth": 0,
             "ticks": ""
            },
            "colorscale": [
             [
              0,
              "#0d0887"
             ],
             [
              0.1111111111111111,
              "#46039f"
             ],
             [
              0.2222222222222222,
              "#7201a8"
             ],
             [
              0.3333333333333333,
              "#9c179e"
             ],
             [
              0.4444444444444444,
              "#bd3786"
             ],
             [
              0.5555555555555556,
              "#d8576b"
             ],
             [
              0.6666666666666666,
              "#ed7953"
             ],
             [
              0.7777777777777778,
              "#fb9f3a"
             ],
             [
              0.8888888888888888,
              "#fdca26"
             ],
             [
              1,
              "#f0f921"
             ]
            ],
            "type": "surface"
           }
          ],
          "table": [
           {
            "cells": {
             "fill": {
              "color": "#EBF0F8"
             },
             "line": {
              "color": "white"
             }
            },
            "header": {
             "fill": {
              "color": "#C8D4E3"
             },
             "line": {
              "color": "white"
             }
            },
            "type": "table"
           }
          ]
         },
         "layout": {
          "annotationdefaults": {
           "arrowcolor": "#2a3f5f",
           "arrowhead": 0,
           "arrowwidth": 1
          },
          "coloraxis": {
           "colorbar": {
            "outlinewidth": 0,
            "ticks": ""
           }
          },
          "colorscale": {
           "diverging": [
            [
             0,
             "#8e0152"
            ],
            [
             0.1,
             "#c51b7d"
            ],
            [
             0.2,
             "#de77ae"
            ],
            [
             0.3,
             "#f1b6da"
            ],
            [
             0.4,
             "#fde0ef"
            ],
            [
             0.5,
             "#f7f7f7"
            ],
            [
             0.6,
             "#e6f5d0"
            ],
            [
             0.7,
             "#b8e186"
            ],
            [
             0.8,
             "#7fbc41"
            ],
            [
             0.9,
             "#4d9221"
            ],
            [
             1,
             "#276419"
            ]
           ],
           "sequential": [
            [
             0,
             "#0d0887"
            ],
            [
             0.1111111111111111,
             "#46039f"
            ],
            [
             0.2222222222222222,
             "#7201a8"
            ],
            [
             0.3333333333333333,
             "#9c179e"
            ],
            [
             0.4444444444444444,
             "#bd3786"
            ],
            [
             0.5555555555555556,
             "#d8576b"
            ],
            [
             0.6666666666666666,
             "#ed7953"
            ],
            [
             0.7777777777777778,
             "#fb9f3a"
            ],
            [
             0.8888888888888888,
             "#fdca26"
            ],
            [
             1,
             "#f0f921"
            ]
           ],
           "sequentialminus": [
            [
             0,
             "#0d0887"
            ],
            [
             0.1111111111111111,
             "#46039f"
            ],
            [
             0.2222222222222222,
             "#7201a8"
            ],
            [
             0.3333333333333333,
             "#9c179e"
            ],
            [
             0.4444444444444444,
             "#bd3786"
            ],
            [
             0.5555555555555556,
             "#d8576b"
            ],
            [
             0.6666666666666666,
             "#ed7953"
            ],
            [
             0.7777777777777778,
             "#fb9f3a"
            ],
            [
             0.8888888888888888,
             "#fdca26"
            ],
            [
             1,
             "#f0f921"
            ]
           ]
          },
          "colorway": [
           "#636efa",
           "#EF553B",
           "#00cc96",
           "#ab63fa",
           "#FFA15A",
           "#19d3f3",
           "#FF6692",
           "#B6E880",
           "#FF97FF",
           "#FECB52"
          ],
          "font": {
           "color": "#2a3f5f"
          },
          "geo": {
           "bgcolor": "white",
           "lakecolor": "white",
           "landcolor": "#E5ECF6",
           "showlakes": true,
           "showland": true,
           "subunitcolor": "white"
          },
          "hoverlabel": {
           "align": "left"
          },
          "hovermode": "closest",
          "mapbox": {
           "style": "light"
          },
          "paper_bgcolor": "white",
          "plot_bgcolor": "#E5ECF6",
          "polar": {
           "angularaxis": {
            "gridcolor": "white",
            "linecolor": "white",
            "ticks": ""
           },
           "bgcolor": "#E5ECF6",
           "radialaxis": {
            "gridcolor": "white",
            "linecolor": "white",
            "ticks": ""
           }
          },
          "scene": {
           "xaxis": {
            "backgroundcolor": "#E5ECF6",
            "gridcolor": "white",
            "gridwidth": 2,
            "linecolor": "white",
            "showbackground": true,
            "ticks": "",
            "zerolinecolor": "white"
           },
           "yaxis": {
            "backgroundcolor": "#E5ECF6",
            "gridcolor": "white",
            "gridwidth": 2,
            "linecolor": "white",
            "showbackground": true,
            "ticks": "",
            "zerolinecolor": "white"
           },
           "zaxis": {
            "backgroundcolor": "#E5ECF6",
            "gridcolor": "white",
            "gridwidth": 2,
            "linecolor": "white",
            "showbackground": true,
            "ticks": "",
            "zerolinecolor": "white"
           }
          },
          "shapedefaults": {
           "line": {
            "color": "#2a3f5f"
           }
          },
          "ternary": {
           "aaxis": {
            "gridcolor": "white",
            "linecolor": "white",
            "ticks": ""
           },
           "baxis": {
            "gridcolor": "white",
            "linecolor": "white",
            "ticks": ""
           },
           "bgcolor": "#E5ECF6",
           "caxis": {
            "gridcolor": "white",
            "linecolor": "white",
            "ticks": ""
           }
          },
          "title": {
           "x": 0.05
          },
          "xaxis": {
           "automargin": true,
           "gridcolor": "white",
           "linecolor": "white",
           "ticks": "",
           "title": {
            "standoff": 15
           },
           "zerolinecolor": "white",
           "zerolinewidth": 2
          },
          "yaxis": {
           "automargin": true,
           "gridcolor": "white",
           "linecolor": "white",
           "ticks": "",
           "title": {
            "standoff": 15
           },
           "zerolinecolor": "white",
           "zerolinewidth": 2
          }
         }
        },
        "title": {
         "text": "Top 5 important features"
        },
        "xaxis": {
         "anchor": "y",
         "domain": [
          0,
          1
         ],
         "title": {
          "text": "x"
         }
        },
        "yaxis": {
         "anchor": "x",
         "domain": [
          0,
          1
         ],
         "title": {
          "text": "y"
         }
        }
       }
      },
      "text/html": [
       "<div>\n",
       "        \n",
       "        \n",
       "            <div id=\"89016283-8070-4a6e-a5f8-68f8949a8b48\" class=\"plotly-graph-div\" style=\"height:400px; width:100%;\"></div>\n",
       "            <script type=\"text/javascript\">\n",
       "                require([\"plotly\"], function(Plotly) {\n",
       "                    window.PLOTLYENV=window.PLOTLYENV || {};\n",
       "                    \n",
       "                if (document.getElementById(\"89016283-8070-4a6e-a5f8-68f8949a8b48\")) {\n",
       "                    Plotly.newPlot(\n",
       "                        '89016283-8070-4a6e-a5f8-68f8949a8b48',\n",
       "                        [{\"alignmentgroup\": \"True\", \"customdata\": [[\"CHANNEL4_3M\"]], \"hoverlabel\": {\"namelength\": 0}, \"hovertemplate\": \"feature=%{customdata[0]}<br>x=%{x}<br>y=%{y}\", \"legendgroup\": \"feature=CHANNEL4_3M\", \"marker\": {\"color\": \"#636efa\"}, \"name\": \"feature=CHANNEL4_3M\", \"offsetgroup\": \"feature=CHANNEL4_3M\", \"orientation\": \"v\", \"showlegend\": true, \"textposition\": \"auto\", \"type\": \"bar\", \"x\": [\"CHANNEL4_3M\"], \"xaxis\": \"x\", \"y\": [0.37909072637557983], \"yaxis\": \"y\"}, {\"alignmentgroup\": \"True\", \"customdata\": [[\"payments_minus_channel_3M\"]], \"hoverlabel\": {\"namelength\": 0}, \"hovertemplate\": \"feature=%{customdata[0]}<br>x=%{x}<br>y=%{y}\", \"legendgroup\": \"feature=payments_minus_channel_3M\", \"marker\": {\"color\": \"#EF553B\"}, \"name\": \"feature=payments_minus_channel_3M\", \"offsetgroup\": \"feature=payments_minus_channel_3M\", \"orientation\": \"v\", \"showlegend\": true, \"textposition\": \"auto\", \"type\": \"bar\", \"x\": [\"payments_minus_channel_3M\"], \"xaxis\": \"x\", \"y\": [0.2087991088628769], \"yaxis\": \"y\"}, {\"alignmentgroup\": \"True\", \"customdata\": [[\"CHANNEL5_3M\"]], \"hoverlabel\": {\"namelength\": 0}, \"hovertemplate\": \"feature=%{customdata[0]}<br>x=%{x}<br>y=%{y}\", \"legendgroup\": \"feature=CHANNEL5_3M\", \"marker\": {\"color\": \"#00cc96\"}, \"name\": \"feature=CHANNEL5_3M\", \"offsetgroup\": \"feature=CHANNEL5_3M\", \"orientation\": \"v\", \"showlegend\": true, \"textposition\": \"auto\", \"type\": \"bar\", \"x\": [\"CHANNEL5_3M\"], \"xaxis\": \"x\", \"y\": [0.1400829702615738], \"yaxis\": \"y\"}, {\"alignmentgroup\": \"True\", \"customdata\": [[\"PAYMENTS_3M\"]], \"hoverlabel\": {\"namelength\": 0}, \"hovertemplate\": \"feature=%{customdata[0]}<br>x=%{x}<br>y=%{y}\", \"legendgroup\": \"feature=PAYMENTS_3M\", \"marker\": {\"color\": \"#ab63fa\"}, \"name\": \"feature=PAYMENTS_3M\", \"offsetgroup\": \"feature=PAYMENTS_3M\", \"orientation\": \"v\", \"showlegend\": true, \"textposition\": \"auto\", \"type\": \"bar\", \"x\": [\"PAYMENTS_3M\"], \"xaxis\": \"x\", \"y\": [0.09117792546749115], \"yaxis\": \"y\"}, {\"alignmentgroup\": \"True\", \"customdata\": [[\"other_method_3M\"]], \"hoverlabel\": {\"namelength\": 0}, \"hovertemplate\": \"feature=%{customdata[0]}<br>x=%{x}<br>y=%{y}\", \"legendgroup\": \"feature=other_method_3M\", \"marker\": {\"color\": \"#FFA15A\"}, \"name\": \"feature=other_method_3M\", \"offsetgroup\": \"feature=other_method_3M\", \"orientation\": \"v\", \"showlegend\": true, \"textposition\": \"auto\", \"type\": \"bar\", \"x\": [\"other_method_3M\"], \"xaxis\": \"x\", \"y\": [0.059796638786792755], \"yaxis\": \"y\"}],\n",
       "                        {\"barmode\": \"relative\", \"height\": 400, \"legend\": {\"tracegroupgap\": 0}, \"template\": {\"data\": {\"bar\": [{\"error_x\": {\"color\": \"#2a3f5f\"}, \"error_y\": {\"color\": \"#2a3f5f\"}, \"marker\": {\"line\": {\"color\": \"#E5ECF6\", \"width\": 0.5}}, \"type\": \"bar\"}], \"barpolar\": [{\"marker\": {\"line\": {\"color\": \"#E5ECF6\", \"width\": 0.5}}, \"type\": \"barpolar\"}], \"carpet\": [{\"aaxis\": {\"endlinecolor\": \"#2a3f5f\", \"gridcolor\": \"white\", \"linecolor\": \"white\", \"minorgridcolor\": \"white\", \"startlinecolor\": \"#2a3f5f\"}, \"baxis\": {\"endlinecolor\": \"#2a3f5f\", \"gridcolor\": \"white\", \"linecolor\": \"white\", \"minorgridcolor\": \"white\", \"startlinecolor\": \"#2a3f5f\"}, \"type\": \"carpet\"}], \"choropleth\": [{\"colorbar\": {\"outlinewidth\": 0, \"ticks\": \"\"}, \"type\": \"choropleth\"}], \"contour\": [{\"colorbar\": {\"outlinewidth\": 0, \"ticks\": \"\"}, \"colorscale\": [[0.0, \"#0d0887\"], [0.1111111111111111, \"#46039f\"], [0.2222222222222222, \"#7201a8\"], [0.3333333333333333, \"#9c179e\"], [0.4444444444444444, \"#bd3786\"], [0.5555555555555556, \"#d8576b\"], [0.6666666666666666, \"#ed7953\"], [0.7777777777777778, \"#fb9f3a\"], [0.8888888888888888, \"#fdca26\"], [1.0, \"#f0f921\"]], \"type\": \"contour\"}], \"contourcarpet\": [{\"colorbar\": {\"outlinewidth\": 0, \"ticks\": \"\"}, \"type\": \"contourcarpet\"}], \"heatmap\": [{\"colorbar\": {\"outlinewidth\": 0, \"ticks\": \"\"}, \"colorscale\": [[0.0, \"#0d0887\"], [0.1111111111111111, \"#46039f\"], [0.2222222222222222, \"#7201a8\"], [0.3333333333333333, \"#9c179e\"], [0.4444444444444444, \"#bd3786\"], [0.5555555555555556, \"#d8576b\"], [0.6666666666666666, \"#ed7953\"], [0.7777777777777778, \"#fb9f3a\"], [0.8888888888888888, \"#fdca26\"], [1.0, \"#f0f921\"]], \"type\": \"heatmap\"}], \"heatmapgl\": [{\"colorbar\": {\"outlinewidth\": 0, \"ticks\": \"\"}, \"colorscale\": [[0.0, \"#0d0887\"], [0.1111111111111111, \"#46039f\"], [0.2222222222222222, \"#7201a8\"], [0.3333333333333333, \"#9c179e\"], [0.4444444444444444, \"#bd3786\"], [0.5555555555555556, \"#d8576b\"], [0.6666666666666666, \"#ed7953\"], [0.7777777777777778, \"#fb9f3a\"], [0.8888888888888888, \"#fdca26\"], [1.0, \"#f0f921\"]], \"type\": \"heatmapgl\"}], \"histogram\": [{\"marker\": {\"colorbar\": {\"outlinewidth\": 0, \"ticks\": \"\"}}, \"type\": \"histogram\"}], \"histogram2d\": [{\"colorbar\": {\"outlinewidth\": 0, \"ticks\": \"\"}, \"colorscale\": [[0.0, \"#0d0887\"], [0.1111111111111111, \"#46039f\"], [0.2222222222222222, \"#7201a8\"], [0.3333333333333333, \"#9c179e\"], [0.4444444444444444, \"#bd3786\"], [0.5555555555555556, \"#d8576b\"], [0.6666666666666666, \"#ed7953\"], [0.7777777777777778, \"#fb9f3a\"], [0.8888888888888888, \"#fdca26\"], [1.0, \"#f0f921\"]], \"type\": \"histogram2d\"}], \"histogram2dcontour\": [{\"colorbar\": {\"outlinewidth\": 0, \"ticks\": \"\"}, \"colorscale\": [[0.0, \"#0d0887\"], [0.1111111111111111, \"#46039f\"], [0.2222222222222222, \"#7201a8\"], [0.3333333333333333, \"#9c179e\"], [0.4444444444444444, \"#bd3786\"], [0.5555555555555556, \"#d8576b\"], [0.6666666666666666, \"#ed7953\"], [0.7777777777777778, \"#fb9f3a\"], [0.8888888888888888, \"#fdca26\"], [1.0, \"#f0f921\"]], \"type\": \"histogram2dcontour\"}], \"mesh3d\": [{\"colorbar\": {\"outlinewidth\": 0, \"ticks\": \"\"}, \"type\": \"mesh3d\"}], \"parcoords\": [{\"line\": {\"colorbar\": {\"outlinewidth\": 0, \"ticks\": \"\"}}, \"type\": \"parcoords\"}], \"pie\": [{\"automargin\": true, \"type\": \"pie\"}], \"scatter\": [{\"marker\": {\"colorbar\": {\"outlinewidth\": 0, \"ticks\": \"\"}}, \"type\": \"scatter\"}], \"scatter3d\": [{\"line\": {\"colorbar\": {\"outlinewidth\": 0, \"ticks\": \"\"}}, \"marker\": {\"colorbar\": {\"outlinewidth\": 0, \"ticks\": \"\"}}, \"type\": \"scatter3d\"}], \"scattercarpet\": [{\"marker\": {\"colorbar\": {\"outlinewidth\": 0, \"ticks\": \"\"}}, \"type\": \"scattercarpet\"}], \"scattergeo\": [{\"marker\": {\"colorbar\": {\"outlinewidth\": 0, \"ticks\": \"\"}}, \"type\": \"scattergeo\"}], \"scattergl\": [{\"marker\": {\"colorbar\": {\"outlinewidth\": 0, \"ticks\": \"\"}}, \"type\": \"scattergl\"}], \"scattermapbox\": [{\"marker\": {\"colorbar\": {\"outlinewidth\": 0, \"ticks\": \"\"}}, \"type\": \"scattermapbox\"}], \"scatterpolar\": [{\"marker\": {\"colorbar\": {\"outlinewidth\": 0, \"ticks\": \"\"}}, \"type\": \"scatterpolar\"}], \"scatterpolargl\": [{\"marker\": {\"colorbar\": {\"outlinewidth\": 0, \"ticks\": \"\"}}, \"type\": \"scatterpolargl\"}], \"scatterternary\": [{\"marker\": {\"colorbar\": {\"outlinewidth\": 0, \"ticks\": \"\"}}, \"type\": \"scatterternary\"}], \"surface\": [{\"colorbar\": {\"outlinewidth\": 0, \"ticks\": \"\"}, \"colorscale\": [[0.0, \"#0d0887\"], [0.1111111111111111, \"#46039f\"], [0.2222222222222222, \"#7201a8\"], [0.3333333333333333, \"#9c179e\"], [0.4444444444444444, \"#bd3786\"], [0.5555555555555556, \"#d8576b\"], [0.6666666666666666, \"#ed7953\"], [0.7777777777777778, \"#fb9f3a\"], [0.8888888888888888, \"#fdca26\"], [1.0, \"#f0f921\"]], \"type\": \"surface\"}], \"table\": [{\"cells\": {\"fill\": {\"color\": \"#EBF0F8\"}, \"line\": {\"color\": \"white\"}}, \"header\": {\"fill\": {\"color\": \"#C8D4E3\"}, \"line\": {\"color\": \"white\"}}, \"type\": \"table\"}]}, \"layout\": {\"annotationdefaults\": {\"arrowcolor\": \"#2a3f5f\", \"arrowhead\": 0, \"arrowwidth\": 1}, \"coloraxis\": {\"colorbar\": {\"outlinewidth\": 0, \"ticks\": \"\"}}, \"colorscale\": {\"diverging\": [[0, \"#8e0152\"], [0.1, \"#c51b7d\"], [0.2, \"#de77ae\"], [0.3, \"#f1b6da\"], [0.4, \"#fde0ef\"], [0.5, \"#f7f7f7\"], [0.6, \"#e6f5d0\"], [0.7, \"#b8e186\"], [0.8, \"#7fbc41\"], [0.9, \"#4d9221\"], [1, \"#276419\"]], \"sequential\": [[0.0, \"#0d0887\"], [0.1111111111111111, \"#46039f\"], [0.2222222222222222, \"#7201a8\"], [0.3333333333333333, \"#9c179e\"], [0.4444444444444444, \"#bd3786\"], [0.5555555555555556, \"#d8576b\"], [0.6666666666666666, \"#ed7953\"], [0.7777777777777778, \"#fb9f3a\"], [0.8888888888888888, \"#fdca26\"], [1.0, \"#f0f921\"]], \"sequentialminus\": [[0.0, \"#0d0887\"], [0.1111111111111111, \"#46039f\"], [0.2222222222222222, \"#7201a8\"], [0.3333333333333333, \"#9c179e\"], [0.4444444444444444, \"#bd3786\"], [0.5555555555555556, \"#d8576b\"], [0.6666666666666666, \"#ed7953\"], [0.7777777777777778, \"#fb9f3a\"], [0.8888888888888888, \"#fdca26\"], [1.0, \"#f0f921\"]]}, \"colorway\": [\"#636efa\", \"#EF553B\", \"#00cc96\", \"#ab63fa\", \"#FFA15A\", \"#19d3f3\", \"#FF6692\", \"#B6E880\", \"#FF97FF\", \"#FECB52\"], \"font\": {\"color\": \"#2a3f5f\"}, \"geo\": {\"bgcolor\": \"white\", \"lakecolor\": \"white\", \"landcolor\": \"#E5ECF6\", \"showlakes\": true, \"showland\": true, \"subunitcolor\": \"white\"}, \"hoverlabel\": {\"align\": \"left\"}, \"hovermode\": \"closest\", \"mapbox\": {\"style\": \"light\"}, \"paper_bgcolor\": \"white\", \"plot_bgcolor\": \"#E5ECF6\", \"polar\": {\"angularaxis\": {\"gridcolor\": \"white\", \"linecolor\": \"white\", \"ticks\": \"\"}, \"bgcolor\": \"#E5ECF6\", \"radialaxis\": {\"gridcolor\": \"white\", \"linecolor\": \"white\", \"ticks\": \"\"}}, \"scene\": {\"xaxis\": {\"backgroundcolor\": \"#E5ECF6\", \"gridcolor\": \"white\", \"gridwidth\": 2, \"linecolor\": \"white\", \"showbackground\": true, \"ticks\": \"\", \"zerolinecolor\": \"white\"}, \"yaxis\": {\"backgroundcolor\": \"#E5ECF6\", \"gridcolor\": \"white\", \"gridwidth\": 2, \"linecolor\": \"white\", \"showbackground\": true, \"ticks\": \"\", \"zerolinecolor\": \"white\"}, \"zaxis\": {\"backgroundcolor\": \"#E5ECF6\", \"gridcolor\": \"white\", \"gridwidth\": 2, \"linecolor\": \"white\", \"showbackground\": true, \"ticks\": \"\", \"zerolinecolor\": \"white\"}}, \"shapedefaults\": {\"line\": {\"color\": \"#2a3f5f\"}}, \"ternary\": {\"aaxis\": {\"gridcolor\": \"white\", \"linecolor\": \"white\", \"ticks\": \"\"}, \"baxis\": {\"gridcolor\": \"white\", \"linecolor\": \"white\", \"ticks\": \"\"}, \"bgcolor\": \"#E5ECF6\", \"caxis\": {\"gridcolor\": \"white\", \"linecolor\": \"white\", \"ticks\": \"\"}}, \"title\": {\"x\": 0.05}, \"xaxis\": {\"automargin\": true, \"gridcolor\": \"white\", \"linecolor\": \"white\", \"ticks\": \"\", \"title\": {\"standoff\": 15}, \"zerolinecolor\": \"white\", \"zerolinewidth\": 2}, \"yaxis\": {\"automargin\": true, \"gridcolor\": \"white\", \"linecolor\": \"white\", \"ticks\": \"\", \"title\": {\"standoff\": 15}, \"zerolinecolor\": \"white\", \"zerolinewidth\": 2}}}, \"title\": {\"text\": \"Top 5 important features\"}, \"xaxis\": {\"anchor\": \"y\", \"domain\": [0.0, 1.0], \"title\": {\"text\": \"x\"}}, \"yaxis\": {\"anchor\": \"x\", \"domain\": [0.0, 1.0], \"title\": {\"text\": \"y\"}}},\n",
       "                        {\"responsive\": true}\n",
       "                    ).then(function(){\n",
       "                            \n",
       "var gd = document.getElementById('89016283-8070-4a6e-a5f8-68f8949a8b48');\n",
       "var x = new MutationObserver(function (mutations, observer) {{\n",
       "        var display = window.getComputedStyle(gd).display;\n",
       "        if (!display || display === 'none') {{\n",
       "            console.log([gd, 'removed!']);\n",
       "            Plotly.purge(gd);\n",
       "            observer.disconnect();\n",
       "        }}\n",
       "}});\n",
       "\n",
       "// Listen for the removal of the full notebook cells\n",
       "var notebookContainer = gd.closest('#notebook-container');\n",
       "if (notebookContainer) {{\n",
       "    x.observe(notebookContainer, {childList: true});\n",
       "}}\n",
       "\n",
       "// Listen for the clearing of the current output cell\n",
       "var outputEl = gd.closest('.output');\n",
       "if (outputEl) {{\n",
       "    x.observe(outputEl, {childList: true});\n",
       "}}\n",
       "\n",
       "                        })\n",
       "                };\n",
       "                });\n",
       "            </script>\n",
       "        </div>"
      ]
     },
     "metadata": {},
     "output_type": "display_data"
    }
   ],
   "source": [
    "\n",
    "\n",
    "fig = px.bar(tmp.Feature, x=tmp.Feature, y=tmp.Feature_importance,\n",
    "             hover_data=['Feature'], color='Feature',\n",
    "                 labels={'Feature':'feature'}, height=400,title='Top 5 important features')\n",
    "fig.show()\n",
    "#This is interactive. You can hover your mouse to see the values"
   ]
  },
  {
   "cell_type": "markdown",
   "metadata": {},
   "source": [
    "## What's Next "
   ]
  },
  {
   "cell_type": "markdown",
   "metadata": {},
   "source": [
    ">Due to time and software limits, we didn't tune all the hyperparameters in XGBoost. If we tune all the hyperparameters in a wide range, it will have better performance in terms of the AUC score.\n",
    "\n",
    ">In the feature engineering part, we could use the methods based on automated feature engineering using SparkBeyond)(SB) for feature exploration & insights.\n",
    "\n",
    ">In the feature selection part, we could try more feature selection techniques such as recursive feature elimination to compare and combine different feature selection techniques."
   ]
  }
 ],
 "metadata": {
  "kernelspec": {
   "display_name": "Python 3",
   "language": "python",
   "name": "python3"
  },
  "language_info": {
   "codemirror_mode": {
    "name": "ipython",
    "version": 3
   },
   "file_extension": ".py",
   "mimetype": "text/x-python",
   "name": "python",
   "nbconvert_exporter": "python",
   "pygments_lexer": "ipython3",
   "version": "3.7.4"
  },
  "toc": {
   "base_numbering": 1,
   "nav_menu": {},
   "number_sections": true,
   "sideBar": true,
   "skip_h1_title": true,
   "title_cell": "Table of Contents",
   "title_sidebar": "Contents",
   "toc_cell": false,
   "toc_position": {},
   "toc_section_display": true,
   "toc_window_display": true
  }
 },
 "nbformat": 4,
 "nbformat_minor": 2
}
